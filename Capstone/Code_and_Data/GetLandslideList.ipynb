{
 "cells": [
  {
   "cell_type": "code",
   "execution_count": 1,
   "metadata": {
    "collapsed": true
   },
   "outputs": [],
   "source": [
    "\n",
    "import numpy as np\n",
    "import pandas as pd\n",
    "from pandas import Series, DataFrame\n",
    "from numpy.random import randn"
   ]
  },
  {
   "cell_type": "code",
   "execution_count": 15,
   "metadata": {
    "collapsed": false
   },
   "outputs": [
    {
     "data": {
      "text/html": [
       "<div>\n",
       "<table border=\"1\" class=\"dataframe\">\n",
       "  <thead>\n",
       "    <tr style=\"text-align: right;\">\n",
       "      <th></th>\n",
       "      <th>X</th>\n",
       "      <th>Y</th>\n",
       "      <th>REF_ID_COD</th>\n",
       "      <th>UNIQUE_ID</th>\n",
       "      <th>DATA_SOURC</th>\n",
       "      <th>LOC_METHOD</th>\n",
       "      <th>ORIG_ID</th>\n",
       "      <th>SLIDE_NAME</th>\n",
       "      <th>DATE</th>\n",
       "      <th>LENGTH_ft</th>\n",
       "      <th>...</th>\n",
       "      <th>CONTR_FACT</th>\n",
       "      <th>TYPE_MTRL</th>\n",
       "      <th>AREA_ft2</th>\n",
       "      <th>VOLUME_ft3</th>\n",
       "      <th>DEEP_SHAL</th>\n",
       "      <th>DAMAGES</th>\n",
       "      <th>LOSSES</th>\n",
       "      <th>COMMENTS</th>\n",
       "      <th>Annual_Cos</th>\n",
       "      <th>Repair_Cos</th>\n",
       "    </tr>\n",
       "  </thead>\n",
       "  <tbody>\n",
       "    <tr>\n",
       "      <th>0</th>\n",
       "      <td>1285467.394029</td>\n",
       "      <td>1454567.758530</td>\n",
       "      <td>ODOT2011</td>\n",
       "      <td>LS_0</td>\n",
       "      <td>Oregon Department of Transportation</td>\n",
       "      <td></td>\n",
       "      <td>SL002-0116-92RE1</td>\n",
       "      <td>Matties Hump</td>\n",
       "      <td>6/20/2007</td>\n",
       "      <td>0</td>\n",
       "      <td>...</td>\n",
       "      <td></td>\n",
       "      <td></td>\n",
       "      <td>0</td>\n",
       "      <td>0</td>\n",
       "      <td></td>\n",
       "      <td>Road Impact:RF on roadway;Lanes Affected:2; Ot...</td>\n",
       "      <td></td>\n",
       "      <td>Hwy Name:Columbia River; Hwy Number:002;Mile ...</td>\n",
       "      <td>47.680000</td>\n",
       "      <td>1285220.000000</td>\n",
       "    </tr>\n",
       "    <tr>\n",
       "      <th>1</th>\n",
       "      <td>1300566.281168</td>\n",
       "      <td>1446574.309383</td>\n",
       "      <td>ODOT2011</td>\n",
       "      <td>LS_1</td>\n",
       "      <td>Oregon Department of Transportation</td>\n",
       "      <td></td>\n",
       "      <td>SL002-0120-30RE1</td>\n",
       "      <td></td>\n",
       "      <td>6/20/2007</td>\n",
       "      <td>0</td>\n",
       "      <td>...</td>\n",
       "      <td></td>\n",
       "      <td></td>\n",
       "      <td>0</td>\n",
       "      <td>0</td>\n",
       "      <td></td>\n",
       "      <td>Road Impact: ;Lanes Affected:2;</td>\n",
       "      <td></td>\n",
       "      <td>Hwy Name:Columbia River; Hwy Number:002;Mile ...</td>\n",
       "      <td>237.110001</td>\n",
       "      <td>98678.601562</td>\n",
       "    </tr>\n",
       "    <tr>\n",
       "      <th>2</th>\n",
       "      <td>1316943.110236</td>\n",
       "      <td>1435213.604987</td>\n",
       "      <td>ODOT2011</td>\n",
       "      <td>LS_2</td>\n",
       "      <td>Oregon Department of Transportation</td>\n",
       "      <td></td>\n",
       "      <td>SL002-0124-20RE1</td>\n",
       "      <td>Phillipi Canyon</td>\n",
       "      <td>3/29/2007</td>\n",
       "      <td>0</td>\n",
       "      <td>...</td>\n",
       "      <td></td>\n",
       "      <td></td>\n",
       "      <td>0</td>\n",
       "      <td>0</td>\n",
       "      <td></td>\n",
       "      <td>Road Impact:RF on roadway;Lanes Affected:4; Ot...</td>\n",
       "      <td></td>\n",
       "      <td>Hwy Name:Columbia River; Hwy Number:002;Mile ...</td>\n",
       "      <td>47.680000</td>\n",
       "      <td>13793600.000000</td>\n",
       "    </tr>\n",
       "    <tr>\n",
       "      <th>3</th>\n",
       "      <td>1336731.661089</td>\n",
       "      <td>1437168.634186</td>\n",
       "      <td>ODOT2011</td>\n",
       "      <td>LS_3</td>\n",
       "      <td>Oregon Department of Transportation</td>\n",
       "      <td></td>\n",
       "      <td>SL002-0127-71RE1</td>\n",
       "      <td></td>\n",
       "      <td>6/20/2007</td>\n",
       "      <td>0</td>\n",
       "      <td>...</td>\n",
       "      <td></td>\n",
       "      <td></td>\n",
       "      <td>0</td>\n",
       "      <td>0</td>\n",
       "      <td></td>\n",
       "      <td>Road Impact: ;Lanes Affected:2;</td>\n",
       "      <td></td>\n",
       "      <td>Hwy Name:Columbia River; Hwy Number:002;Mile ...</td>\n",
       "      <td>246.259995</td>\n",
       "      <td>98678.601562</td>\n",
       "    </tr>\n",
       "    <tr>\n",
       "      <th>4</th>\n",
       "      <td>1342539.546916</td>\n",
       "      <td>1437518.348097</td>\n",
       "      <td>ODOT2011</td>\n",
       "      <td>LS_4</td>\n",
       "      <td>Oregon Department of Transportation</td>\n",
       "      <td></td>\n",
       "      <td>SL002-0129-07RE1</td>\n",
       "      <td>Blalock Canyon RF West</td>\n",
       "      <td>6/21/2007</td>\n",
       "      <td>0</td>\n",
       "      <td>...</td>\n",
       "      <td></td>\n",
       "      <td></td>\n",
       "      <td>0</td>\n",
       "      <td>0</td>\n",
       "      <td></td>\n",
       "      <td>Road Impact:RF on roadway;Lanes Affected:2;</td>\n",
       "      <td></td>\n",
       "      <td>Hwy Name:Columbia River; Hwy Number:002;Mile ...</td>\n",
       "      <td>47.680000</td>\n",
       "      <td>2592600.000000</td>\n",
       "    </tr>\n",
       "  </tbody>\n",
       "</table>\n",
       "<p>5 rows × 25 columns</p>\n",
       "</div>"
      ],
      "text/plain": [
       "                X               Y REF_ID_COD UNIQUE_ID  \\\n",
       "0  1285467.394029  1454567.758530   ODOT2011      LS_0   \n",
       "1  1300566.281168  1446574.309383   ODOT2011      LS_1   \n",
       "2  1316943.110236  1435213.604987   ODOT2011      LS_2   \n",
       "3  1336731.661089  1437168.634186   ODOT2011      LS_3   \n",
       "4  1342539.546916  1437518.348097   ODOT2011      LS_4   \n",
       "\n",
       "                            DATA_SOURC LOC_METHOD           ORIG_ID  \\\n",
       "0  Oregon Department of Transportation             SL002-0116-92RE1   \n",
       "1  Oregon Department of Transportation             SL002-0120-30RE1   \n",
       "2  Oregon Department of Transportation             SL002-0124-20RE1   \n",
       "3  Oregon Department of Transportation             SL002-0127-71RE1   \n",
       "4  Oregon Department of Transportation             SL002-0129-07RE1   \n",
       "\n",
       "               SLIDE_NAME       DATE  LENGTH_ft       ...         CONTR_FACT  \\\n",
       "0            Matties Hump  6/20/2007          0       ...                      \n",
       "1                          6/20/2007          0       ...                      \n",
       "2         Phillipi Canyon  3/29/2007          0       ...                      \n",
       "3                          6/20/2007          0       ...                      \n",
       "4  Blalock Canyon RF West  6/21/2007          0       ...                      \n",
       "\n",
       "   TYPE_MTRL  AREA_ft2 VOLUME_ft3 DEEP_SHAL  \\\n",
       "0                    0          0             \n",
       "1                    0          0             \n",
       "2                    0          0             \n",
       "3                    0          0             \n",
       "4                    0          0             \n",
       "\n",
       "                                             DAMAGES LOSSES  \\\n",
       "0  Road Impact:RF on roadway;Lanes Affected:2; Ot...          \n",
       "1                    Road Impact: ;Lanes Affected:2;          \n",
       "2  Road Impact:RF on roadway;Lanes Affected:4; Ot...          \n",
       "3                    Road Impact: ;Lanes Affected:2;          \n",
       "4        Road Impact:RF on roadway;Lanes Affected:2;          \n",
       "\n",
       "                                            COMMENTS  Annual_Cos  \\\n",
       "0   Hwy Name:Columbia River; Hwy Number:002;Mile ...   47.680000   \n",
       "1   Hwy Name:Columbia River; Hwy Number:002;Mile ...  237.110001   \n",
       "2   Hwy Name:Columbia River; Hwy Number:002;Mile ...   47.680000   \n",
       "3   Hwy Name:Columbia River; Hwy Number:002;Mile ...  246.259995   \n",
       "4   Hwy Name:Columbia River; Hwy Number:002;Mile ...   47.680000   \n",
       "\n",
       "        Repair_Cos  \n",
       "0   1285220.000000  \n",
       "1     98678.601562  \n",
       "2  13793600.000000  \n",
       "3     98678.601562  \n",
       "4   2592600.000000  \n",
       "\n",
       "[5 rows x 25 columns]"
      ]
     },
     "execution_count": 15,
     "metadata": {},
     "output_type": "execute_result"
    }
   ],
   "source": [
    "landslide_df = pd.read_csv(\"OregonLandslides.csv\")\n",
    "landslide_df.head()"
   ]
  },
  {
   "cell_type": "code",
   "execution_count": 16,
   "metadata": {
    "collapsed": false
   },
   "outputs": [
    {
     "data": {
      "text/plain": [
       "['X',\n",
       " 'Y',\n",
       " 'REF_ID_COD',\n",
       " 'UNIQUE_ID',\n",
       " 'DATA_SOURC',\n",
       " 'LOC_METHOD',\n",
       " 'ORIG_ID',\n",
       " 'SLIDE_NAME',\n",
       " 'DATE',\n",
       " 'LENGTH_ft',\n",
       " 'WIDTH_ft',\n",
       " 'DEPTH_ft',\n",
       " 'SLOPE',\n",
       " 'TYPE_MOVE',\n",
       " 'MOVE_CLASS',\n",
       " 'CONTR_FACT',\n",
       " 'TYPE_MTRL',\n",
       " 'AREA_ft2',\n",
       " 'VOLUME_ft3',\n",
       " 'DEEP_SHAL',\n",
       " 'DAMAGES',\n",
       " 'LOSSES',\n",
       " 'COMMENTS',\n",
       " 'Annual_Cos',\n",
       " 'Repair_Cos']"
      ]
     },
     "execution_count": 16,
     "metadata": {},
     "output_type": "execute_result"
    }
   ],
   "source": [
    "list(landslide_df)"
   ]
  },
  {
   "cell_type": "code",
   "execution_count": 17,
   "metadata": {
    "collapsed": false
   },
   "outputs": [
    {
     "data": {
      "text/html": [
       "<div>\n",
       "<table border=\"1\" class=\"dataframe\">\n",
       "  <thead>\n",
       "    <tr style=\"text-align: right;\">\n",
       "      <th></th>\n",
       "      <th>X</th>\n",
       "      <th>Y</th>\n",
       "      <th>UNIQUE_ID</th>\n",
       "      <th>TYPE_MOVE</th>\n",
       "      <th>Annual_Cos</th>\n",
       "      <th>Repair_Cos</th>\n",
       "    </tr>\n",
       "  </thead>\n",
       "  <tbody>\n",
       "    <tr>\n",
       "      <th>0</th>\n",
       "      <td>1285467.394029</td>\n",
       "      <td>1454567.758530</td>\n",
       "      <td>LS_0</td>\n",
       "      <td></td>\n",
       "      <td>47.680000</td>\n",
       "      <td>1285220.000000</td>\n",
       "    </tr>\n",
       "    <tr>\n",
       "      <th>1</th>\n",
       "      <td>1300566.281168</td>\n",
       "      <td>1446574.309383</td>\n",
       "      <td>LS_1</td>\n",
       "      <td></td>\n",
       "      <td>237.110001</td>\n",
       "      <td>98678.601562</td>\n",
       "    </tr>\n",
       "    <tr>\n",
       "      <th>2</th>\n",
       "      <td>1316943.110236</td>\n",
       "      <td>1435213.604987</td>\n",
       "      <td>LS_2</td>\n",
       "      <td></td>\n",
       "      <td>47.680000</td>\n",
       "      <td>13793600.000000</td>\n",
       "    </tr>\n",
       "    <tr>\n",
       "      <th>3</th>\n",
       "      <td>1336731.661089</td>\n",
       "      <td>1437168.634186</td>\n",
       "      <td>LS_3</td>\n",
       "      <td></td>\n",
       "      <td>246.259995</td>\n",
       "      <td>98678.601562</td>\n",
       "    </tr>\n",
       "    <tr>\n",
       "      <th>4</th>\n",
       "      <td>1342539.546916</td>\n",
       "      <td>1437518.348097</td>\n",
       "      <td>LS_4</td>\n",
       "      <td></td>\n",
       "      <td>47.680000</td>\n",
       "      <td>2592600.000000</td>\n",
       "    </tr>\n",
       "  </tbody>\n",
       "</table>\n",
       "</div>"
      ],
      "text/plain": [
       "                X               Y UNIQUE_ID TYPE_MOVE  Annual_Cos  \\\n",
       "0  1285467.394029  1454567.758530      LS_0             47.680000   \n",
       "1  1300566.281168  1446574.309383      LS_1            237.110001   \n",
       "2  1316943.110236  1435213.604987      LS_2             47.680000   \n",
       "3  1336731.661089  1437168.634186      LS_3            246.259995   \n",
       "4  1342539.546916  1437518.348097      LS_4             47.680000   \n",
       "\n",
       "        Repair_Cos  \n",
       "0   1285220.000000  \n",
       "1     98678.601562  \n",
       "2  13793600.000000  \n",
       "3     98678.601562  \n",
       "4   2592600.000000  "
      ]
     },
     "execution_count": 17,
     "metadata": {},
     "output_type": "execute_result"
    }
   ],
   "source": [
    "landslides_df = landslide_df[['X','Y','UNIQUE_ID','TYPE_MOVE','Annual_Cos','Repair_Cos']]\n",
    "landslides_df.head()"
   ]
  },
  {
   "cell_type": "code",
   "execution_count": 18,
   "metadata": {
    "collapsed": false
   },
   "outputs": [
    {
     "data": {
      "text/plain": [
       "           10586\n",
       "EFL          990\n",
       "DFL          229\n",
       "DSL          143\n",
       "Flow          77\n",
       "Slide         24\n",
       "Complex       12\n",
       "ES-R           8\n",
       "Fall           5\n",
       "Name: TYPE_MOVE, dtype: int64"
      ]
     },
     "execution_count": 18,
     "metadata": {},
     "output_type": "execute_result"
    }
   ],
   "source": [
    "landslides_df['TYPE_MOVE'].value_counts()"
   ]
  },
  {
   "cell_type": "code",
   "execution_count": 12,
   "metadata": {
    "collapsed": true
   },
   "outputs": [],
   "source": []
  },
  {
   "cell_type": "code",
   "execution_count": 13,
   "metadata": {
    "collapsed": false
   },
   "outputs": [
    {
     "data": {
      "text/plain": [
       "EFL        990\n",
       "DFL        229\n",
       "DSL        143\n",
       "Flow        77\n",
       "Slide       24\n",
       "Complex     12\n",
       "ES-R         8\n",
       "Fall         5\n",
       "Name: TYPE_MOVE, dtype: int64"
      ]
     },
     "execution_count": 13,
     "metadata": {},
     "output_type": "execute_result"
    }
   ],
   "source": []
  },
  {
   "cell_type": "code",
   "execution_count": 19,
   "metadata": {
    "collapsed": false
   },
   "outputs": [
    {
     "data": {
      "text/html": [
       "<div>\n",
       "<table border=\"1\" class=\"dataframe\">\n",
       "  <thead>\n",
       "    <tr style=\"text-align: right;\">\n",
       "      <th></th>\n",
       "      <th>X</th>\n",
       "      <th>Y</th>\n",
       "      <th>Annual_Cos</th>\n",
       "      <th>Repair_Cos</th>\n",
       "    </tr>\n",
       "  </thead>\n",
       "  <tbody>\n",
       "    <tr>\n",
       "      <th>count</th>\n",
       "      <td>1.207500e+04</td>\n",
       "      <td>1.207500e+04</td>\n",
       "      <td>12074.000000</td>\n",
       "      <td>12074.000000</td>\n",
       "    </tr>\n",
       "    <tr>\n",
       "      <th>mean</th>\n",
       "      <td>5.012082e+11</td>\n",
       "      <td>5.012086e+11</td>\n",
       "      <td>206.948119</td>\n",
       "      <td>46534.283321</td>\n",
       "    </tr>\n",
       "    <tr>\n",
       "      <th>std</th>\n",
       "      <td>5.507585e+13</td>\n",
       "      <td>5.507585e+13</td>\n",
       "      <td>2212.091504</td>\n",
       "      <td>365801.308974</td>\n",
       "    </tr>\n",
       "    <tr>\n",
       "      <th>min</th>\n",
       "      <td>2.447442e+05</td>\n",
       "      <td>9.089500e+04</td>\n",
       "      <td>0.000000</td>\n",
       "      <td>0.000000</td>\n",
       "    </tr>\n",
       "    <tr>\n",
       "      <th>25%</th>\n",
       "      <td>4.527060e+05</td>\n",
       "      <td>8.039896e+05</td>\n",
       "      <td>0.000000</td>\n",
       "      <td>0.000000</td>\n",
       "    </tr>\n",
       "    <tr>\n",
       "      <th>50%</th>\n",
       "      <td>6.150256e+05</td>\n",
       "      <td>1.114465e+06</td>\n",
       "      <td>0.000000</td>\n",
       "      <td>0.000000</td>\n",
       "    </tr>\n",
       "    <tr>\n",
       "      <th>75%</th>\n",
       "      <td>8.058430e+05</td>\n",
       "      <td>1.389155e+06</td>\n",
       "      <td>0.000000</td>\n",
       "      <td>0.000000</td>\n",
       "    </tr>\n",
       "    <tr>\n",
       "      <th>max</th>\n",
       "      <td>6.052081e+15</td>\n",
       "      <td>6.052081e+15</td>\n",
       "      <td>134000.000000</td>\n",
       "      <td>13793600.000000</td>\n",
       "    </tr>\n",
       "  </tbody>\n",
       "</table>\n",
       "</div>"
      ],
      "text/plain": [
       "                  X             Y     Annual_Cos       Repair_Cos\n",
       "count  1.207500e+04  1.207500e+04   12074.000000     12074.000000\n",
       "mean   5.012082e+11  5.012086e+11     206.948119     46534.283321\n",
       "std    5.507585e+13  5.507585e+13    2212.091504    365801.308974\n",
       "min    2.447442e+05  9.089500e+04       0.000000         0.000000\n",
       "25%    4.527060e+05  8.039896e+05       0.000000         0.000000\n",
       "50%    6.150256e+05  1.114465e+06       0.000000         0.000000\n",
       "75%    8.058430e+05  1.389155e+06       0.000000         0.000000\n",
       "max    6.052081e+15  6.052081e+15  134000.000000  13793600.000000"
      ]
     },
     "execution_count": 19,
     "metadata": {},
     "output_type": "execute_result"
    }
   ],
   "source": [
    "landslides_df.describe()"
   ]
  },
  {
   "cell_type": "code",
   "execution_count": 23,
   "metadata": {
    "collapsed": false
   },
   "outputs": [],
   "source": [
    "landslides_df.to_csv('landslides')"
   ]
  },
  {
   "cell_type": "code",
   "execution_count": null,
   "metadata": {
    "collapsed": true
   },
   "outputs": [],
   "source": []
  }
 ],
 "metadata": {
  "kernelspec": {
   "display_name": "IPython (Python 3)",
   "language": "python",
   "name": "python3"
  },
  "language_info": {
   "codemirror_mode": {
    "name": "ipython",
    "version": 3
   },
   "file_extension": ".py",
   "mimetype": "text/x-python",
   "name": "python",
   "nbconvert_exporter": "python",
   "pygments_lexer": "ipython3",
   "version": "3.5.0"
  }
 },
 "nbformat": 4,
 "nbformat_minor": 0
}

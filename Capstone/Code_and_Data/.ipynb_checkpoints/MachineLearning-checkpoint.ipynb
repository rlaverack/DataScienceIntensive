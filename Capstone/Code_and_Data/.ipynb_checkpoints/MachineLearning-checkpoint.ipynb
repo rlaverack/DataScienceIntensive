{
 "cells": [
  {
   "cell_type": "code",
   "execution_count": 45,
   "metadata": {
    "collapsed": true
   },
   "outputs": [],
   "source": [
    "import numpy as np\n",
    "import pandas as pd\n",
    "import statsmodels.api as sm\n",
    "import matplotlib.pyplot as plt\n",
    "from patsy import dmatrices\n",
    "from sklearn.cross_validation import train_test_split\n",
    "from sklearn import metrics\n",
    "from sklearn.cross_validation import cross_val_score\n",
    "from time import time\n",
    "from sklearn.ensemble import RandomForestClassifier\n",
    "from sklearn.metrics import roc_auc_score"
   ]
  },
  {
   "cell_type": "code",
   "execution_count": 46,
   "metadata": {
    "collapsed": false
   },
   "outputs": [],
   "source": [
    "X = pd.read_csv(\"X_whole.csv\")\n",
    "y = pd.read_csv(\"y_whole.csv\").pop('SLIDE')"
   ]
  },
  {
   "cell_type": "code",
   "execution_count": 47,
   "metadata": {
    "collapsed": false
   },
   "outputs": [],
   "source": [
    "X_train, X_test, y_train, y_test = train_test_split(X, y, test_size=0.30)"
   ]
  },
  {
   "cell_type": "code",
   "execution_count": 48,
   "metadata": {
    "collapsed": true
   },
   "outputs": [],
   "source": [
    "clf = RandomForestClassifier(n_estimators=1000,min_samples_split=5)"
   ]
  },
  {
   "cell_type": "code",
   "execution_count": 49,
   "metadata": {
    "collapsed": false
   },
   "outputs": [
    {
     "name": "stdout",
     "output_type": "stream",
     "text": [
      "('Training time:', 3.959, 's')\n"
     ]
    }
   ],
   "source": [
    "t0 = time()\n",
    "clf.fit(X_train, y_train)\n",
    "print (\"Training time:\", round(time() - t0, 3), \"s\")\n"
   ]
  },
  {
   "cell_type": "code",
   "execution_count": 143,
   "metadata": {
    "collapsed": false
   },
   "outputs": [
    {
     "name": "stdout",
     "output_type": "stream",
     "text": [
      "('predicting time:', 0.32, 's')\n"
     ]
    }
   ],
   "source": [
    "#Predict on test set\n",
    "t1 = time()\n",
    "pred = clf.predict(X_test)\n",
    "print (\"predicting time:\", round(time() - t1, 3), \"s\")\n"
   ]
  },
  {
   "cell_type": "code",
   "execution_count": 52,
   "metadata": {
    "collapsed": false
   },
   "outputs": [
    {
     "data": {
      "text/plain": [
       "0.85068493150684932"
      ]
     },
     "execution_count": 52,
     "metadata": {},
     "output_type": "execute_result"
    }
   ],
   "source": [
    "accuracy_score(pred, y_test)"
   ]
  },
  {
   "cell_type": "code",
   "execution_count": null,
   "metadata": {
    "collapsed": false
   },
   "outputs": [],
   "source": []
  },
  {
   "cell_type": "code",
   "execution_count": null,
   "metadata": {
    "collapsed": false
   },
   "outputs": [],
   "source": []
  },
  {
   "cell_type": "code",
   "execution_count": null,
   "metadata": {
    "collapsed": true
   },
   "outputs": [],
   "source": []
  },
  {
   "cell_type": "code",
   "execution_count": null,
   "metadata": {
    "collapsed": true
   },
   "outputs": [],
   "source": []
  },
  {
   "cell_type": "code",
   "execution_count": null,
   "metadata": {
    "collapsed": false
   },
   "outputs": [],
   "source": []
  },
  {
   "cell_type": "code",
   "execution_count": null,
   "metadata": {
    "collapsed": false
   },
   "outputs": [],
   "source": []
  },
  {
   "cell_type": "code",
   "execution_count": null,
   "metadata": {
    "collapsed": true
   },
   "outputs": [],
   "source": []
  },
  {
   "cell_type": "code",
   "execution_count": null,
   "metadata": {
    "collapsed": true
   },
   "outputs": [],
   "source": []
  },
  {
   "cell_type": "code",
   "execution_count": null,
   "metadata": {
    "collapsed": true
   },
   "outputs": [],
   "source": []
  },
  {
   "cell_type": "code",
   "execution_count": null,
   "metadata": {
    "collapsed": false
   },
   "outputs": [],
   "source": []
  },
  {
   "cell_type": "code",
   "execution_count": null,
   "metadata": {
    "collapsed": false
   },
   "outputs": [],
   "source": []
  },
  {
   "cell_type": "code",
   "execution_count": null,
   "metadata": {
    "collapsed": false
   },
   "outputs": [],
   "source": []
  },
  {
   "cell_type": "code",
   "execution_count": null,
   "metadata": {
    "collapsed": false
   },
   "outputs": [],
   "source": []
  },
  {
   "cell_type": "code",
   "execution_count": null,
   "metadata": {
    "collapsed": true
   },
   "outputs": [],
   "source": []
  },
  {
   "cell_type": "code",
   "execution_count": 51,
   "metadata": {
    "collapsed": false
   },
   "outputs": [
    {
     "data": {
      "text/plain": [
       "0.85104375737621119"
      ]
     },
     "execution_count": 51,
     "metadata": {},
     "output_type": "execute_result"
    }
   ],
   "source": []
  },
  {
   "cell_type": "code",
   "execution_count": null,
   "metadata": {
    "collapsed": false
   },
   "outputs": [],
   "source": []
  },
  {
   "cell_type": "code",
   "execution_count": null,
   "metadata": {
    "collapsed": false,
    "scrolled": true
   },
   "outputs": [],
   "source": []
  },
  {
   "cell_type": "code",
   "execution_count": 63,
   "metadata": {
    "collapsed": false
   },
   "outputs": [],
   "source": [
    "importances = clf.feature_importances_\n",
    "std = np.std([tree.feature_importances_ for tree in clf.estimators_],axis=0)\n",
    "indices = np.argsort(importances)[::-1]\n",
    "features = pd.DataFrame(list(X))"
   ]
  },
  {
   "cell_type": "code",
   "execution_count": 64,
   "metadata": {
    "collapsed": false
   },
   "outputs": [
    {
     "name": "stdout",
     "output_type": "stream",
     "text": [
      "Feature ranking:\n",
      "1. feature 0 : Slope : (0.139160)\n",
      "2. feature 48 : COVERAGE_Developed, Open : (0.117253)\n",
      "3. feature 2 : Precip_Mon : (0.066584)\n",
      "4. feature 6 : Soil_Temp : (0.058225)\n",
      "5. feature 3 : Soil_Moist : (0.057162)\n",
      "6. feature 5 : Vegetation : (0.055479)\n",
      "7. feature 4 : Soil_Moist_Depth : (0.051851)\n",
      "8. feature 8 : maxtempi : (0.048139)\n",
      "9. feature 11 : maxpressurei : (0.043433)\n",
      "10. feature 9 : mintempi : (0.042171)\n",
      "11. feature 7 : maxwspdi : (0.038947)\n",
      "12. feature 10 : maxhumidity : (0.032646)\n",
      "13. feature 49 : COVERAGE_Evergreen Forest : (0.031893)\n",
      "14. feature 55 : COVERAGE_Shrub : (0.029951)\n",
      "15. feature 46 : COVERAGE_Developed, Low : (0.019791)\n",
      "16. feature 1 : precipi : (0.019338)\n",
      "17. feature 40 : GEO_GENL_U_volcanic rocks : (0.016319)\n",
      "18. feature 32 : GEO_GENL_U_marine sedimentary rocks : (0.014188)\n",
      "19. feature 52 : COVERAGE_Mixed Forest : (0.010003)\n",
      "20. feature 13 : AGE_NAME_Eocene : (0.009554)\n",
      "21. feature 37 : GEO_GENL_U_sediments : (0.009193)\n",
      "22. feature 27 : AGE_NAME_Quaternary : (0.009097)\n",
      "23. feature 18 : AGE_NAME_Miocene : (0.008542)\n",
      "24. feature 22 : AGE_NAME_Oligocene/Miocene : (0.006792)\n",
      "25. feature 41 : GEO_GENL_U_volcaniclastic rocks : (0.005906)\n",
      "26. feature 50 : COVERAGE_Grassland : (0.005702)\n",
      "27. feature 33 : GEO_GENL_U_marine volcanic rocks : (0.005307)\n",
      "28. feature 21 : AGE_NAME_Oligocene : (0.005030)\n",
      "29. feature 54 : COVERAGE_Pasture/Hay : (0.004111)\n",
      "30. feature 43 : COVERAGE_Cultivated Crops : (0.003926)\n",
      "31. feature 30 : GEO_GENL_U_intrusive rocks : (0.003846)\n",
      "32. feature 31 : GEO_GENL_U_invasive extrusive rocks : (0.003527)\n",
      "33. feature 15 : AGE_NAME_Eocene/Oligocene : (0.003414)\n",
      "34. feature 44 : COVERAGE_Deciduous Forest : (0.003128)\n",
      "35. feature 34 : GEO_GENL_U_melange rocks : (0.002458)\n",
      "36. feature 38 : GEO_GENL_U_terrestrial sedimentary rocks : (0.002279)\n",
      "37. feature 24 : AGE_NAME_Pleistocene : (0.001974)\n",
      "38. feature 17 : AGE_NAME_Jurassic/Cretaceous : (0.001944)\n",
      "39. feature 23 : AGE_NAME_Paleocene/Eocene : (0.001777)\n",
      "40. feature 26 : AGE_NAME_Pliocene/Pleistocene : (0.001749)\n",
      "41. feature 47 : COVERAGE_Developed, Medium : (0.001248)\n",
      "42. feature 19 : AGE_NAME_Miocene/Pleistocene : (0.001118)\n",
      "43. feature 20 : AGE_NAME_Miocene/Pliocene : (0.001109)\n",
      "44. feature 28 : AGE_NAME_Recent : (0.000810)\n",
      "45. feature 25 : AGE_NAME_Pliocene : (0.000637)\n",
      "46. feature 42 : COVERAGE_Barren Land : (0.000627)\n",
      "47. feature 14 : AGE_NAME_Eocene/Miocene : (0.000548)\n",
      "48. feature 51 : COVERAGE_Herbaceous Wetlands : (0.000415)\n",
      "49. feature 35 : GEO_GENL_U_metamorphic rocks : (0.000321)\n",
      "50. feature 12 : AGE_NAME_Cretaceous : (0.000301)\n",
      "51. feature 39 : GEO_GENL_U_vent and pyroclastic rocks : (0.000276)\n",
      "52. feature 53 : COVERAGE_Open Water : (0.000262)\n",
      "53. feature 56 : COVERAGE_Woody Wetlands : (0.000216)\n",
      "54. feature 16 : AGE_NAME_Jurassic : (0.000159)\n",
      "55. feature 36 : GEO_GENL_U_no data : (0.000122)\n",
      "56. feature 45 : COVERAGE_Developed, High : (0.000036)\n",
      "57. feature 29 : AGE_NAME_no data : (0.000006)\n"
     ]
    }
   ],
   "source": [
    "print(\"Feature ranking:\")\n",
    "for f in range(X.shape[1]):\n",
    "    print(\"%d. feature %d : %s : (%f)\" % (f + 1, indices[f], features[0][indices[f]], importances[indices[f]]))\n"
   ]
  },
  {
   "cell_type": "code",
   "execution_count": 141,
   "metadata": {
    "collapsed": false
   },
   "outputs": [],
   "source": [
    "plt.figure(figsize=(12,6))\n",
    "plt.title(\"Feature importances\")\n",
    "plt.bar(range(X.shape[1]), importances[indices],\n",
    "       color=\"r\", yerr=std[indices], align=\"center\")\n",
    "plt.xticks(range(X.shape[1]), indices)\n",
    "plt.xlim([-1, X.shape[1]])\n",
    "plt.show()"
   ]
  },
  {
   "cell_type": "code",
   "execution_count": null,
   "metadata": {
    "collapsed": false
   },
   "outputs": [],
   "source": []
  },
  {
   "cell_type": "code",
   "execution_count": 181,
   "metadata": {
    "collapsed": false
   },
   "outputs": [],
   "source": [
    "y_df = pd.DataFrame(y_test).reset_index()\n",
    "y_df = y_df.rename(columns={0:'SLIDE'})"
   ]
  },
  {
   "cell_type": "code",
   "execution_count": 158,
   "metadata": {
    "collapsed": false
   },
   "outputs": [],
   "source": [
    "pred_df = pd.DataFrame(pred)"
   ]
  },
  {
   "cell_type": "code",
   "execution_count": 159,
   "metadata": {
    "collapsed": false
   },
   "outputs": [],
   "source": [
    "X_test = X_test.reset_index()"
   ]
  },
  {
   "cell_type": "code",
   "execution_count": 182,
   "metadata": {
    "collapsed": false
   },
   "outputs": [],
   "source": [
    "frames = [X_test,y_df,pred_df]\n",
    "answers = pd.concat(frames,axis=1)"
   ]
  },
  {
   "cell_type": "code",
   "execution_count": 58,
   "metadata": {
    "collapsed": false
   },
   "outputs": [],
   "source": [
    "wrong_answers = answers[answers['SLIDE'] != answers[0]]"
   ]
  },
  {
   "cell_type": "code",
   "execution_count": null,
   "metadata": {
    "collapsed": false
   },
   "outputs": [],
   "source": []
  },
  {
   "cell_type": "code",
   "execution_count": null,
   "metadata": {
    "collapsed": false
   },
   "outputs": [],
   "source": []
  },
  {
   "cell_type": "code",
   "execution_count": null,
   "metadata": {
    "collapsed": false
   },
   "outputs": [],
   "source": []
  },
  {
   "cell_type": "code",
   "execution_count": 62,
   "metadata": {
    "collapsed": false
   },
   "outputs": [],
   "source": []
  },
  {
   "cell_type": "code",
   "execution_count": null,
   "metadata": {
    "collapsed": false
   },
   "outputs": [],
   "source": [
    "pred = clf.predict_proba(X_test)\n",
    "pred_df = pd.DataFrame(pred)"
   ]
  },
  {
   "cell_type": "code",
   "execution_count": null,
   "metadata": {
    "collapsed": true
   },
   "outputs": [],
   "source": [
    "frames = [X_test,y_df,pred_df]\n",
    "answers = pd.concat(frames,axis=1)"
   ]
  },
  {
   "cell_type": "code",
   "execution_count": 206,
   "metadata": {
    "collapsed": false
   },
   "outputs": [],
   "source": [
    "answers['check'] = np.where(answers[1]>0.3, 1, 0)"
   ]
  },
  {
   "cell_type": "code",
   "execution_count": 197,
   "metadata": {
    "collapsed": false
   },
   "outputs": [],
   "source": [
    "check = answers.pop('check')"
   ]
  },
  {
   "cell_type": "code",
   "execution_count": 198,
   "metadata": {
    "collapsed": false
   },
   "outputs": [
    {
     "data": {
      "text/plain": [
       "0.78767123287671237"
      ]
     },
     "execution_count": 198,
     "metadata": {},
     "output_type": "execute_result"
    }
   ],
   "source": [
    "accuracy_score(np.asarray(check), y_test)"
   ]
  },
  {
   "cell_type": "code",
   "execution_count": null,
   "metadata": {
    "collapsed": false
   },
   "outputs": [],
   "source": []
  },
  {
   "cell_type": "code",
   "execution_count": null,
   "metadata": {
    "collapsed": false
   },
   "outputs": [],
   "source": []
  },
  {
   "cell_type": "code",
   "execution_count": 207,
   "metadata": {
    "collapsed": false
   },
   "outputs": [],
   "source": [
    "wrong_answers = answers[answers['SLIDE'] != answers['check']]"
   ]
  },
  {
   "cell_type": "code",
   "execution_count": 208,
   "metadata": {
    "collapsed": false
   },
   "outputs": [
    {
     "data": {
      "text/plain": [
       "1    131\n",
       "0     24\n",
       "Name: check, dtype: int64"
      ]
     },
     "execution_count": 208,
     "metadata": {},
     "output_type": "execute_result"
    }
   ],
   "source": [
    "wrong_answers['check'].value_counts()"
   ]
  },
  {
   "cell_type": "code",
   "execution_count": 202,
   "metadata": {
    "collapsed": false
   },
   "outputs": [
    {
     "data": {
      "text/plain": [
       "count    155.000000\n",
       "mean       0.845161\n",
       "std        0.362923\n",
       "min        0.000000\n",
       "25%        1.000000\n",
       "50%        1.000000\n",
       "75%        1.000000\n",
       "max        1.000000\n",
       "Name: check, dtype: float64"
      ]
     },
     "execution_count": 202,
     "metadata": {},
     "output_type": "execute_result"
    }
   ],
   "source": [
    "wrong_answers['check'].describe()"
   ]
  },
  {
   "cell_type": "code",
   "execution_count": null,
   "metadata": {
    "collapsed": true
   },
   "outputs": [],
   "source": []
  }
 ],
 "metadata": {
  "kernelspec": {
   "display_name": "Python 2",
   "language": "python",
   "name": "python2"
  },
  "language_info": {
   "codemirror_mode": {
    "name": "ipython",
    "version": 2
   },
   "file_extension": ".py",
   "mimetype": "text/x-python",
   "name": "python",
   "nbconvert_exporter": "python",
   "pygments_lexer": "ipython2",
   "version": "2.7.10"
  }
 },
 "nbformat": 4,
 "nbformat_minor": 0
}

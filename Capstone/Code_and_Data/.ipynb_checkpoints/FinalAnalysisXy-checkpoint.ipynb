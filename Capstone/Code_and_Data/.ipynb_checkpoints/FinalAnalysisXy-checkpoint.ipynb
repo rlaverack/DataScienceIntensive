{
 "cells": [
  {
   "cell_type": "code",
   "execution_count": 78,
   "metadata": {
    "collapsed": true
   },
   "outputs": [],
   "source": [
    "import pandas as pd\n",
    "import numpy as np"
   ]
  },
  {
   "cell_type": "markdown",
   "metadata": {},
   "source": [
    "Load csv into dataframe"
   ]
  },
  {
   "cell_type": "code",
   "execution_count": 79,
   "metadata": {
    "collapsed": true
   },
   "outputs": [],
   "source": [
    "landslide = pd.read_csv('landslide_database.csv')"
   ]
  },
  {
   "cell_type": "markdown",
   "metadata": {},
   "source": [
    "Coverage column defined by numbers, convert to coverage names:"
   ]
  },
  {
   "cell_type": "code",
   "execution_count": 80,
   "metadata": {
    "collapsed": false
   },
   "outputs": [],
   "source": [
    "cover = {11:'Open Water',12:'Perennial Ice/Snow',21:'Developed, Open',22:'Developed, Low',23:'Developed, Medium',24:'Developed, High',31:'Barren Land',41:'Deciduous Forest',42:'Evergreen Forest',43:'Mixed Forest',52:'Shrub',71:'Grassland',72:'Sedge',73:'Lichens',74:'Moss',51:'Dwarf Scrub',81:'Pasture/Hay',82:'Cultivated Crops',90:'Woody Wetlands',95:'Herbaceous Wetlands'}\n",
    "landslide = landslide.replace({'COVERAGE': cover})"
   ]
  },
  {
   "cell_type": "markdown",
   "metadata": {},
   "source": [
    "Precipitation is a string since some entries are 'T' for trace, convert T to 0:"
   ]
  },
  {
   "cell_type": "code",
   "execution_count": 81,
   "metadata": {
    "collapsed": false
   },
   "outputs": [
    {
     "name": "stderr",
     "output_type": "stream",
     "text": [
      "/Users/rlaverack/ipykernel/ipykernel/__main__.py:1: SettingWithCopyWarning: \n",
      "A value is trying to be set on a copy of a slice from a DataFrame\n",
      "\n",
      "See the caveats in the documentation: http://pandas.pydata.org/pandas-docs/stable/indexing.html#indexing-view-versus-copy\n",
      "  if __name__ == '__main__':\n",
      "/Users/rlaverack/ipykernel/ipykernel/__main__.py:2: FutureWarning: convert_objects is deprecated.  Use the data-type specific converters pd.to_datetime, pd.to_timedelta and pd.to_numeric.\n",
      "  from ipykernel import kernelapp as app\n"
     ]
    }
   ],
   "source": [
    "landslide['precipi'][landslide['precipi'] == 'T'] = 0\n",
    "landslide['precipi'] = landslide['precipi'].convert_objects(convert_numeric=True)"
   ]
  },
  {
   "cell_type": "markdown",
   "metadata": {},
   "source": [
    "Select features to include in final analysis"
   ]
  },
  {
   "cell_type": "code",
   "execution_count": 82,
   "metadata": {
    "collapsed": false
   },
   "outputs": [],
   "source": [
    "features = landslide[['SLIDE','AGE_NAME','GEO_GENL_U','COVERAGE','Slope','precipi','Precip_Mon','Soil_Moist','Soil_Moist_Depth','Vegetation','Soil_Temp','maxwspdi','maxtempi','mintempi','maxhumidity','maxpressurei']]\n"
   ]
  },
  {
   "cell_type": "markdown",
   "metadata": {},
   "source": [
    "Get Dummy Variables for categorical columns"
   ]
  },
  {
   "cell_type": "code",
   "execution_count": 83,
   "metadata": {
    "collapsed": false
   },
   "outputs": [],
   "source": [
    "add = pd.get_dummies(landslide[['AGE_NAME','GEO_GENL_U','COVERAGE']])"
   ]
  },
  {
   "cell_type": "markdown",
   "metadata": {},
   "source": [
    "Add dummy variables to dataframe"
   ]
  },
  {
   "cell_type": "code",
   "execution_count": 84,
   "metadata": {
    "collapsed": true
   },
   "outputs": [],
   "source": [
    "lands = [features,add]\n",
    "landslides = pd.concat(lands,axis=1)"
   ]
  },
  {
   "cell_type": "code",
   "execution_count": 85,
   "metadata": {
    "collapsed": false
   },
   "outputs": [
    {
     "data": {
      "text/plain": [
       "['SLIDE',\n",
       " 'AGE_NAME',\n",
       " 'GEO_GENL_U',\n",
       " 'COVERAGE',\n",
       " 'Slope',\n",
       " 'precipi',\n",
       " 'Precip_Mon',\n",
       " 'Soil_Moist',\n",
       " 'Soil_Moist_Depth',\n",
       " 'Vegetation',\n",
       " 'Soil_Temp',\n",
       " 'maxwspdi',\n",
       " 'maxtempi',\n",
       " 'mintempi',\n",
       " 'maxhumidity',\n",
       " 'maxpressurei',\n",
       " 'AGE_NAME_Cretaceous',\n",
       " 'AGE_NAME_Eocene',\n",
       " 'AGE_NAME_Eocene/Miocene',\n",
       " 'AGE_NAME_Eocene/Oligocene',\n",
       " 'AGE_NAME_Jurassic',\n",
       " 'AGE_NAME_Jurassic/Cretaceous',\n",
       " 'AGE_NAME_Miocene',\n",
       " 'AGE_NAME_Miocene/Pleistocene',\n",
       " 'AGE_NAME_Miocene/Pliocene',\n",
       " 'AGE_NAME_Oligocene',\n",
       " 'AGE_NAME_Oligocene/Miocene',\n",
       " 'AGE_NAME_Paleocene/Eocene',\n",
       " 'AGE_NAME_Pleistocene',\n",
       " 'AGE_NAME_Pliocene',\n",
       " 'AGE_NAME_Pliocene/Pleistocene',\n",
       " 'AGE_NAME_Quaternary',\n",
       " 'AGE_NAME_Recent',\n",
       " 'AGE_NAME_no data',\n",
       " 'GEO_GENL_U_intrusive rocks',\n",
       " 'GEO_GENL_U_invasive extrusive rocks',\n",
       " 'GEO_GENL_U_marine sedimentary rocks',\n",
       " 'GEO_GENL_U_marine volcanic rocks',\n",
       " 'GEO_GENL_U_melange rocks',\n",
       " 'GEO_GENL_U_metamorphic rocks',\n",
       " 'GEO_GENL_U_no data',\n",
       " 'GEO_GENL_U_sediments',\n",
       " 'GEO_GENL_U_terrestrial sedimentary rocks',\n",
       " 'GEO_GENL_U_vent and pyroclastic rocks',\n",
       " 'GEO_GENL_U_volcanic rocks',\n",
       " 'GEO_GENL_U_volcaniclastic rocks',\n",
       " 'COVERAGE_Barren Land',\n",
       " 'COVERAGE_Cultivated Crops',\n",
       " 'COVERAGE_Deciduous Forest',\n",
       " 'COVERAGE_Developed, High',\n",
       " 'COVERAGE_Developed, Low',\n",
       " 'COVERAGE_Developed, Medium',\n",
       " 'COVERAGE_Developed, Open',\n",
       " 'COVERAGE_Evergreen Forest',\n",
       " 'COVERAGE_Grassland',\n",
       " 'COVERAGE_Herbaceous Wetlands',\n",
       " 'COVERAGE_Mixed Forest',\n",
       " 'COVERAGE_Open Water',\n",
       " 'COVERAGE_Pasture/Hay',\n",
       " 'COVERAGE_Shrub',\n",
       " 'COVERAGE_Woody Wetlands']"
      ]
     },
     "execution_count": 85,
     "metadata": {},
     "output_type": "execute_result"
    }
   ],
   "source": [
    "list(landslides)"
   ]
  },
  {
   "cell_type": "markdown",
   "metadata": {},
   "source": [
    "Split dataframe in training and testing data"
   ]
  },
  {
   "cell_type": "code",
   "execution_count": 86,
   "metadata": {
    "collapsed": false
   },
   "outputs": [],
   "source": [
    "msk = np.random.rand(len(landslides)) < 0.7\n",
    "train = landslides[msk]\n",
    "test = landslides[~msk]"
   ]
  },
  {
   "cell_type": "markdown",
   "metadata": {},
   "source": [
    "Check length of training and testing data"
   ]
  },
  {
   "cell_type": "code",
   "execution_count": 87,
   "metadata": {
    "collapsed": false
   },
   "outputs": [
    {
     "data": {
      "text/plain": [
       "1690"
      ]
     },
     "execution_count": 87,
     "metadata": {},
     "output_type": "execute_result"
    }
   ],
   "source": [
    "len(train)"
   ]
  },
  {
   "cell_type": "code",
   "execution_count": 88,
   "metadata": {
    "collapsed": false
   },
   "outputs": [
    {
     "data": {
      "text/plain": [
       "741"
      ]
     },
     "execution_count": 88,
     "metadata": {},
     "output_type": "execute_result"
    }
   ],
   "source": [
    "len(test)"
   ]
  },
  {
   "cell_type": "markdown",
   "metadata": {},
   "source": [
    "Make sure it's an even aplit between slide and no slide"
   ]
  },
  {
   "cell_type": "code",
   "execution_count": 89,
   "metadata": {
    "collapsed": false
   },
   "outputs": [
    {
     "data": {
      "text/plain": [
       "379"
      ]
     },
     "execution_count": 89,
     "metadata": {},
     "output_type": "execute_result"
    }
   ],
   "source": [
    "len(test[test['SLIDE']==1])"
   ]
  },
  {
   "cell_type": "markdown",
   "metadata": {},
   "source": [
    "Define X and y for models"
   ]
  },
  {
   "cell_type": "code",
   "execution_count": 90,
   "metadata": {
    "collapsed": false
   },
   "outputs": [],
   "source": [
    "X_train = train[['Slope',\n",
    " 'precipi',\n",
    " 'Precip_Mon',\n",
    " 'Soil_Moist',\n",
    " 'Soil_Moist_Depth',\n",
    " 'Vegetation',\n",
    " 'Soil_Temp',\n",
    " 'maxwspdi',\n",
    " 'maxtempi',\n",
    " 'mintempi',\n",
    " 'maxhumidity',\n",
    " 'maxpressurei',\n",
    " 'AGE_NAME_Cretaceous',\n",
    " 'AGE_NAME_Eocene',\n",
    " 'AGE_NAME_Eocene/Miocene',\n",
    " 'AGE_NAME_Eocene/Oligocene',\n",
    " 'AGE_NAME_Jurassic',\n",
    " 'AGE_NAME_Jurassic/Cretaceous',\n",
    " 'AGE_NAME_Miocene',\n",
    " 'AGE_NAME_Miocene/Pleistocene',\n",
    " 'AGE_NAME_Miocene/Pliocene',\n",
    " 'AGE_NAME_Oligocene',\n",
    " 'AGE_NAME_Oligocene/Miocene',\n",
    " 'AGE_NAME_Paleocene/Eocene',\n",
    " 'AGE_NAME_Pleistocene',\n",
    " 'AGE_NAME_Pliocene',\n",
    " 'AGE_NAME_Pliocene/Pleistocene',\n",
    " 'AGE_NAME_Quaternary',\n",
    " 'AGE_NAME_Recent',\n",
    " 'AGE_NAME_no data',\n",
    " 'GEO_GENL_U_intrusive rocks',\n",
    " 'GEO_GENL_U_invasive extrusive rocks',\n",
    " 'GEO_GENL_U_marine sedimentary rocks',\n",
    " 'GEO_GENL_U_marine volcanic rocks',\n",
    " 'GEO_GENL_U_melange rocks',\n",
    " 'GEO_GENL_U_metamorphic rocks',\n",
    " 'GEO_GENL_U_no data',\n",
    " 'GEO_GENL_U_sediments',\n",
    " 'GEO_GENL_U_terrestrial sedimentary rocks',\n",
    " 'GEO_GENL_U_vent and pyroclastic rocks',\n",
    " 'GEO_GENL_U_volcanic rocks',\n",
    " 'GEO_GENL_U_volcaniclastic rocks',\n",
    " 'COVERAGE_Barren Land',\n",
    " 'COVERAGE_Cultivated Crops',\n",
    " 'COVERAGE_Deciduous Forest',\n",
    " 'COVERAGE_Developed, High',\n",
    " 'COVERAGE_Developed, Low',\n",
    " 'COVERAGE_Developed, Medium',\n",
    " 'COVERAGE_Developed, Open',\n",
    " 'COVERAGE_Evergreen Forest',\n",
    " 'COVERAGE_Grassland',\n",
    " 'COVERAGE_Herbaceous Wetlands',\n",
    " 'COVERAGE_Mixed Forest',\n",
    " 'COVERAGE_Open Water',\n",
    " 'COVERAGE_Pasture/Hay',\n",
    " 'COVERAGE_Shrub',\n",
    " 'COVERAGE_Woody Wetlands']]\n",
    "X_test = test[['Slope',\n",
    " 'precipi',\n",
    " 'Precip_Mon',\n",
    " 'Soil_Moist',\n",
    " 'Soil_Moist_Depth',\n",
    " 'Vegetation',\n",
    " 'Soil_Temp',\n",
    " 'maxwspdi',\n",
    " 'maxtempi',\n",
    " 'mintempi',\n",
    " 'maxhumidity',\n",
    " 'maxpressurei',\n",
    " 'AGE_NAME_Cretaceous',\n",
    " 'AGE_NAME_Eocene',\n",
    " 'AGE_NAME_Eocene/Miocene',\n",
    " 'AGE_NAME_Eocene/Oligocene',\n",
    " 'AGE_NAME_Jurassic',\n",
    " 'AGE_NAME_Jurassic/Cretaceous',\n",
    " 'AGE_NAME_Miocene',\n",
    " 'AGE_NAME_Miocene/Pleistocene',\n",
    " 'AGE_NAME_Miocene/Pliocene',\n",
    " 'AGE_NAME_Oligocene',\n",
    " 'AGE_NAME_Oligocene/Miocene',\n",
    " 'AGE_NAME_Paleocene/Eocene',\n",
    " 'AGE_NAME_Pleistocene',\n",
    " 'AGE_NAME_Pliocene',\n",
    " 'AGE_NAME_Pliocene/Pleistocene',\n",
    " 'AGE_NAME_Quaternary',\n",
    " 'AGE_NAME_Recent',\n",
    " 'AGE_NAME_no data',\n",
    " 'GEO_GENL_U_intrusive rocks',\n",
    " 'GEO_GENL_U_invasive extrusive rocks',\n",
    " 'GEO_GENL_U_marine sedimentary rocks',\n",
    " 'GEO_GENL_U_marine volcanic rocks',\n",
    " 'GEO_GENL_U_melange rocks',\n",
    " 'GEO_GENL_U_metamorphic rocks',\n",
    " 'GEO_GENL_U_no data',\n",
    " 'GEO_GENL_U_sediments',\n",
    " 'GEO_GENL_U_terrestrial sedimentary rocks',\n",
    " 'GEO_GENL_U_vent and pyroclastic rocks',\n",
    " 'GEO_GENL_U_volcanic rocks',\n",
    " 'GEO_GENL_U_volcaniclastic rocks',\n",
    " 'COVERAGE_Barren Land',\n",
    " 'COVERAGE_Cultivated Crops',\n",
    " 'COVERAGE_Deciduous Forest',\n",
    " 'COVERAGE_Developed, High',\n",
    " 'COVERAGE_Developed, Low',\n",
    " 'COVERAGE_Developed, Medium',\n",
    " 'COVERAGE_Developed, Open',\n",
    " 'COVERAGE_Evergreen Forest',\n",
    " 'COVERAGE_Grassland',\n",
    " 'COVERAGE_Herbaceous Wetlands',\n",
    " 'COVERAGE_Mixed Forest',\n",
    " 'COVERAGE_Open Water',\n",
    " 'COVERAGE_Pasture/Hay',\n",
    " 'COVERAGE_Shrub',\n",
    " 'COVERAGE_Woody Wetlands']]"
   ]
  },
  {
   "cell_type": "code",
   "execution_count": 91,
   "metadata": {
    "collapsed": true
   },
   "outputs": [],
   "source": [
    "y_train = train[['SLIDE']]\n",
    "y_test = test[['SLIDE']]"
   ]
  },
  {
   "cell_type": "markdown",
   "metadata": {},
   "source": [
    "Save to csv"
   ]
  },
  {
   "cell_type": "code",
   "execution_count": 92,
   "metadata": {
    "collapsed": true
   },
   "outputs": [],
   "source": [
    "X_train.to_csv('X.csv',index=False)\n",
    "X_test.to_csv('X_test.csv',index=False)\n",
    "y_train.to_csv('y.csv',index=False)\n",
    "y_test.to_csv('y_test.csv',index=False)"
   ]
  },
  {
   "cell_type": "code",
   "execution_count": 93,
   "metadata": {
    "collapsed": true
   },
   "outputs": [],
   "source": [
    "X_whole = landslides[['Slope',\n",
    " 'precipi',\n",
    " 'Precip_Mon',\n",
    " 'Soil_Moist',\n",
    " 'Soil_Moist_Depth',\n",
    " 'Vegetation',\n",
    " 'Soil_Temp',\n",
    " 'maxwspdi',\n",
    " 'maxtempi',\n",
    " 'mintempi',\n",
    " 'maxhumidity',\n",
    " 'maxpressurei',\n",
    " 'AGE_NAME_Cretaceous',\n",
    " 'AGE_NAME_Eocene',\n",
    " 'AGE_NAME_Eocene/Miocene',\n",
    " 'AGE_NAME_Eocene/Oligocene',\n",
    " 'AGE_NAME_Jurassic',\n",
    " 'AGE_NAME_Jurassic/Cretaceous',\n",
    " 'AGE_NAME_Miocene',\n",
    " 'AGE_NAME_Miocene/Pleistocene',\n",
    " 'AGE_NAME_Miocene/Pliocene',\n",
    " 'AGE_NAME_Oligocene',\n",
    " 'AGE_NAME_Oligocene/Miocene',\n",
    " 'AGE_NAME_Paleocene/Eocene',\n",
    " 'AGE_NAME_Pleistocene',\n",
    " 'AGE_NAME_Pliocene',\n",
    " 'AGE_NAME_Pliocene/Pleistocene',\n",
    " 'AGE_NAME_Quaternary',\n",
    " 'AGE_NAME_Recent',\n",
    " 'AGE_NAME_no data',\n",
    " 'GEO_GENL_U_intrusive rocks',\n",
    " 'GEO_GENL_U_invasive extrusive rocks',\n",
    " 'GEO_GENL_U_marine sedimentary rocks',\n",
    " 'GEO_GENL_U_marine volcanic rocks',\n",
    " 'GEO_GENL_U_melange rocks',\n",
    " 'GEO_GENL_U_metamorphic rocks',\n",
    " 'GEO_GENL_U_no data',\n",
    " 'GEO_GENL_U_sediments',\n",
    " 'GEO_GENL_U_terrestrial sedimentary rocks',\n",
    " 'GEO_GENL_U_vent and pyroclastic rocks',\n",
    " 'GEO_GENL_U_volcanic rocks',\n",
    " 'GEO_GENL_U_volcaniclastic rocks',\n",
    " 'COVERAGE_Barren Land',\n",
    " 'COVERAGE_Cultivated Crops',\n",
    " 'COVERAGE_Deciduous Forest',\n",
    " 'COVERAGE_Developed, High',\n",
    " 'COVERAGE_Developed, Low',\n",
    " 'COVERAGE_Developed, Medium',\n",
    " 'COVERAGE_Developed, Open',\n",
    " 'COVERAGE_Evergreen Forest',\n",
    " 'COVERAGE_Grassland',\n",
    " 'COVERAGE_Herbaceous Wetlands',\n",
    " 'COVERAGE_Mixed Forest',\n",
    " 'COVERAGE_Open Water',\n",
    " 'COVERAGE_Pasture/Hay',\n",
    " 'COVERAGE_Shrub',\n",
    " 'COVERAGE_Woody Wetlands']]\n",
    "y_whole = landslides[['SLIDE']]"
   ]
  },
  {
   "cell_type": "code",
   "execution_count": 94,
   "metadata": {
    "collapsed": true
   },
   "outputs": [],
   "source": [
    "X_whole.to_csv(\"X_whole.csv\",index=False)\n",
    "y_whole.to_csv(\"y_whole.csv\",index=False)"
   ]
  },
  {
   "cell_type": "code",
   "execution_count": null,
   "metadata": {
    "collapsed": true
   },
   "outputs": [],
   "source": []
  }
 ],
 "metadata": {
  "kernelspec": {
   "display_name": "Python 2",
   "language": "python",
   "name": "python2"
  },
  "language_info": {
   "codemirror_mode": {
    "name": "ipython",
    "version": 2
   },
   "file_extension": ".py",
   "mimetype": "text/x-python",
   "name": "python",
   "nbconvert_exporter": "python",
   "pygments_lexer": "ipython2",
   "version": "2.7.10"
  }
 },
 "nbformat": 4,
 "nbformat_minor": 0
}

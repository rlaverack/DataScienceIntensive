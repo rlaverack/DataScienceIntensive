{
 "cells": [
  {
   "cell_type": "code",
   "execution_count": 2,
   "metadata": {
    "collapsed": true
   },
   "outputs": [],
   "source": [
    "import pandas as pd\n",
    "%matplotlib inline\n",
    "import matplotlib as plt"
   ]
  },
  {
   "cell_type": "markdown",
   "metadata": {},
   "source": [
    "Load Landslide DataFrame"
   ]
  },
  {
   "cell_type": "code",
   "execution_count": 3,
   "metadata": {
    "collapsed": false
   },
   "outputs": [
    {
     "data": {
      "text/html": [
       "<div>\n",
       "<table border=\"1\" class=\"dataframe\">\n",
       "  <thead>\n",
       "    <tr style=\"text-align: right;\">\n",
       "      <th></th>\n",
       "      <th>UNIQUE_ID</th>\n",
       "      <th>Long</th>\n",
       "      <th>Lat</th>\n",
       "      <th>DATE</th>\n",
       "      <th>MOVE_CLASS</th>\n",
       "      <th>Annual_Cos</th>\n",
       "      <th>Repair_Cos</th>\n",
       "    </tr>\n",
       "  </thead>\n",
       "  <tbody>\n",
       "    <tr>\n",
       "      <th>0</th>\n",
       "      <td>LS_0</td>\n",
       "      <td>-120.605220</td>\n",
       "      <td>45.740253</td>\n",
       "      <td>6/20/07</td>\n",
       "      <td>Rockfall</td>\n",
       "      <td>47.680000</td>\n",
       "      <td>1285220.00000</td>\n",
       "    </tr>\n",
       "    <tr>\n",
       "      <th>1</th>\n",
       "      <td>LS_1</td>\n",
       "      <td>-120.546074</td>\n",
       "      <td>45.718373</td>\n",
       "      <td>6/20/07</td>\n",
       "      <td>Debris Flow</td>\n",
       "      <td>237.110001</td>\n",
       "      <td>98678.60156</td>\n",
       "    </tr>\n",
       "    <tr>\n",
       "      <th>2</th>\n",
       "      <td>LS_2</td>\n",
       "      <td>-120.481975</td>\n",
       "      <td>45.687228</td>\n",
       "      <td>3/29/07</td>\n",
       "      <td>Rockfall</td>\n",
       "      <td>47.680000</td>\n",
       "      <td>13793600.00000</td>\n",
       "    </tr>\n",
       "    <tr>\n",
       "      <th>3</th>\n",
       "      <td>LS_3</td>\n",
       "      <td>-120.404544</td>\n",
       "      <td>45.692551</td>\n",
       "      <td>6/20/07</td>\n",
       "      <td>Debris Flow</td>\n",
       "      <td>246.259994</td>\n",
       "      <td>98678.60156</td>\n",
       "    </tr>\n",
       "    <tr>\n",
       "      <th>4</th>\n",
       "      <td>LS_4</td>\n",
       "      <td>-120.381816</td>\n",
       "      <td>45.693490</td>\n",
       "      <td>6/21/07</td>\n",
       "      <td>Rockfall</td>\n",
       "      <td>47.680000</td>\n",
       "      <td>2592600.00000</td>\n",
       "    </tr>\n",
       "  </tbody>\n",
       "</table>\n",
       "</div>"
      ],
      "text/plain": [
       "  UNIQUE_ID        Long        Lat     DATE   MOVE_CLASS  Annual_Cos  \\\n",
       "0      LS_0 -120.605220  45.740253  6/20/07     Rockfall   47.680000   \n",
       "1      LS_1 -120.546074  45.718373  6/20/07  Debris Flow  237.110001   \n",
       "2      LS_2 -120.481975  45.687228  3/29/07     Rockfall   47.680000   \n",
       "3      LS_3 -120.404544  45.692551  6/20/07  Debris Flow  246.259994   \n",
       "4      LS_4 -120.381816  45.693490  6/21/07     Rockfall   47.680000   \n",
       "\n",
       "       Repair_Cos  \n",
       "0   1285220.00000  \n",
       "1     98678.60156  \n",
       "2  13793600.00000  \n",
       "3     98678.60156  \n",
       "4   2592600.00000  "
      ]
     },
     "execution_count": 3,
     "metadata": {},
     "output_type": "execute_result"
    }
   ],
   "source": [
    "landslides = pd.read_csv('landslides_lat_long.csv')\n",
    "landslides.head()"
   ]
  },
  {
   "cell_type": "markdown",
   "metadata": {},
   "source": [
    "Find Types of Landslides"
   ]
  },
  {
   "cell_type": "code",
   "execution_count": 4,
   "metadata": {
    "collapsed": false
   },
   "outputs": [
    {
     "data": {
      "text/plain": [
       "                                                6212\n",
       "Earth Flow                                      1064\n",
       "Rockfall                                        1051\n",
       "Fill Failure                                     951\n",
       "Flow                                             904\n",
       "Slide-Translational                              577\n",
       "Landslide                                        409\n",
       "Debris Flow                                      255\n",
       "Slide-Rotational/Flow                            146\n",
       "Debris Slide                                     143\n",
       "Slide-Rotational                                 137\n",
       "Slide                                             79\n",
       "Fall                                              57\n",
       "Slide-Translational/Flow                          29\n",
       "Earth Slide-Rotational                            16\n",
       "Fall/Topple                                       14\n",
       "Earth Slide-Translational                          5\n",
       "Complex-Earth Slide-Rotational+Earth Flow          5\n",
       "Rock Fall                                          4\n",
       "Fall/Flow                                          3\n",
       "Fall/Translational Slide                           2\n",
       "Complex Earth Slide-Rotational & Earth Flow        2\n",
       "Rock Slide-Rotational                              1\n",
       "Complex                                            1\n",
       "Rock Slide                                         1\n",
       "Earth/Rock slide                                   1\n",
       "Debris/Rock Fall                                   1\n",
       "Complex Earth Slide-Rotational Earth Flow          1\n",
       "Complex Earth Slide -Rotational & Earth Flow       1\n",
       "Flow/Fall                                          1\n",
       "Rotational Earth Slide                             1\n",
       "Name: MOVE_CLASS, dtype: int64"
      ]
     },
     "execution_count": 4,
     "metadata": {},
     "output_type": "execute_result"
    }
   ],
   "source": [
    "landslides['MOVE_CLASS'].value_counts()"
   ]
  },
  {
   "cell_type": "markdown",
   "metadata": {},
   "source": [
    "Filter out Rock Falls from the movement classification"
   ]
  },
  {
   "cell_type": "code",
   "execution_count": 5,
   "metadata": {
    "collapsed": false
   },
   "outputs": [
    {
     "data": {
      "text/plain": [
       "Earth Flow                                      1064\n",
       "Fill Failure                                     951\n",
       "Flow                                             904\n",
       "Slide-Translational                              577\n",
       "Landslide                                        409\n",
       "Debris Flow                                      255\n",
       "Slide-Rotational/Flow                            146\n",
       "Debris Slide                                     143\n",
       "Slide-Rotational                                 137\n",
       "Slide                                             79\n",
       "Slide-Translational/Flow                          29\n",
       "Earth Slide-Rotational                            16\n",
       "Earth Slide-Translational                          5\n",
       "Complex-Earth Slide-Rotational+Earth Flow          5\n",
       "Fall/Flow                                          3\n",
       "Complex Earth Slide-Rotational & Earth Flow        2\n",
       "Fall/Translational Slide                           2\n",
       "Complex                                            1\n",
       "Complex Earth Slide -Rotational & Earth Flow       1\n",
       "Debris/Rock Fall                                   1\n",
       "Flow/Fall                                          1\n",
       "Complex Earth Slide-Rotational Earth Flow          1\n",
       "Rotational Earth Slide                             1\n",
       "Rock Slide-Rotational                              1\n",
       "Earth/Rock slide                                   1\n",
       "Rock Slide                                         1\n",
       "Name: MOVE_CLASS, dtype: int64"
      ]
     },
     "execution_count": 5,
     "metadata": {},
     "output_type": "execute_result"
    }
   ],
   "source": [
    "landslides = landslides[landslides['MOVE_CLASS'] != ' ']\n",
    "landslides = landslides[landslides['MOVE_CLASS'] != 'Rockfall']\n",
    "landslides = landslides[landslides['MOVE_CLASS'] != 'Fall']\n",
    "landslides = landslides[landslides['MOVE_CLASS'] != 'Fall/Topple']\n",
    "landslides = landslides[landslides['MOVE_CLASS'] != 'Rock Fall']\n",
    "landslides['MOVE_CLASS'].value_counts()"
   ]
  },
  {
   "cell_type": "code",
   "execution_count": 6,
   "metadata": {
    "collapsed": false
   },
   "outputs": [],
   "source": [
    "import datetime\n",
    "from datetime import datetime"
   ]
  },
  {
   "cell_type": "code",
   "execution_count": 7,
   "metadata": {
    "collapsed": false
   },
   "outputs": [],
   "source": [
    "landslides['DATE'] = pd.to_datetime(landslides['DATE'],errors='coerce')\n",
    "landslides = landslides[landslides['DATE'] > '2000-01-01']"
   ]
  },
  {
   "cell_type": "code",
   "execution_count": 8,
   "metadata": {
    "collapsed": false
   },
   "outputs": [
    {
     "data": {
      "text/html": [
       "<div>\n",
       "<table border=\"1\" class=\"dataframe\">\n",
       "  <thead>\n",
       "    <tr style=\"text-align: right;\">\n",
       "      <th></th>\n",
       "      <th>Long</th>\n",
       "      <th>Lat</th>\n",
       "      <th>Annual_Cos</th>\n",
       "      <th>Repair_Cos</th>\n",
       "    </tr>\n",
       "  </thead>\n",
       "  <tbody>\n",
       "    <tr>\n",
       "      <th>count</th>\n",
       "      <td>1423.000000</td>\n",
       "      <td>1423.000000</td>\n",
       "      <td>1423.000000</td>\n",
       "      <td>1423.000000</td>\n",
       "    </tr>\n",
       "    <tr>\n",
       "      <th>mean</th>\n",
       "      <td>-123.127260</td>\n",
       "      <td>44.926167</td>\n",
       "      <td>929.211989</td>\n",
       "      <td>145414.550209</td>\n",
       "    </tr>\n",
       "    <tr>\n",
       "      <th>std</th>\n",
       "      <td>1.075993</td>\n",
       "      <td>1.135333</td>\n",
       "      <td>4912.927931</td>\n",
       "      <td>649157.241449</td>\n",
       "    </tr>\n",
       "    <tr>\n",
       "      <th>min</th>\n",
       "      <td>-124.474846</td>\n",
       "      <td>41.999096</td>\n",
       "      <td>0.000000</td>\n",
       "      <td>0.000000</td>\n",
       "    </tr>\n",
       "    <tr>\n",
       "      <th>25%</th>\n",
       "      <td>-123.924087</td>\n",
       "      <td>44.308106</td>\n",
       "      <td>0.000000</td>\n",
       "      <td>0.000000</td>\n",
       "    </tr>\n",
       "    <tr>\n",
       "      <th>50%</th>\n",
       "      <td>-123.336386</td>\n",
       "      <td>45.480754</td>\n",
       "      <td>0.000000</td>\n",
       "      <td>0.000000</td>\n",
       "    </tr>\n",
       "    <tr>\n",
       "      <th>75%</th>\n",
       "      <td>-122.689634</td>\n",
       "      <td>45.776098</td>\n",
       "      <td>359.919998</td>\n",
       "      <td>0.000000</td>\n",
       "    </tr>\n",
       "    <tr>\n",
       "      <th>max</th>\n",
       "      <td>-117.155376</td>\n",
       "      <td>46.194435</td>\n",
       "      <td>100000.000000</td>\n",
       "      <td>12935500.000000</td>\n",
       "    </tr>\n",
       "  </tbody>\n",
       "</table>\n",
       "</div>"
      ],
      "text/plain": [
       "              Long          Lat     Annual_Cos       Repair_Cos\n",
       "count  1423.000000  1423.000000    1423.000000      1423.000000\n",
       "mean   -123.127260    44.926167     929.211989    145414.550209\n",
       "std       1.075993     1.135333    4912.927931    649157.241449\n",
       "min    -124.474846    41.999096       0.000000         0.000000\n",
       "25%    -123.924087    44.308106       0.000000         0.000000\n",
       "50%    -123.336386    45.480754       0.000000         0.000000\n",
       "75%    -122.689634    45.776098     359.919998         0.000000\n",
       "max    -117.155376    46.194435  100000.000000  12935500.000000"
      ]
     },
     "execution_count": 8,
     "metadata": {},
     "output_type": "execute_result"
    }
   ],
   "source": [
    "landslides = landslides[landslides['DATE'] != 'NaT']\n",
    "landslides.describe()"
   ]
  },
  {
   "cell_type": "code",
   "execution_count": 9,
   "metadata": {
    "collapsed": false
   },
   "outputs": [],
   "source": [
    "landslides.to_csv('landslides_list.csv')"
   ]
  },
  {
   "cell_type": "code",
   "execution_count": 11,
   "metadata": {
    "collapsed": false
   },
   "outputs": [
    {
     "ename": "ImportError",
     "evalue": "No module named gdal",
     "output_type": "error",
     "traceback": [
      "\u001b[0;31m---------------------------------------------------------------------------\u001b[0m",
      "\u001b[0;31mImportError\u001b[0m                               Traceback (most recent call last)",
      "\u001b[0;32m<ipython-input-11-27bf4694dd2b>\u001b[0m in \u001b[0;36m<module>\u001b[0;34m()\u001b[0m\n\u001b[0;32m----> 1\u001b[0;31m \u001b[0;32mimport\u001b[0m \u001b[0mgdal\u001b[0m\u001b[0;34m\u001b[0m\u001b[0m\n\u001b[0m",
      "\u001b[0;31mImportError\u001b[0m: No module named gdal"
     ]
    }
   ],
   "source": []
  },
  {
   "cell_type": "code",
   "execution_count": null,
   "metadata": {
    "collapsed": false
   },
   "outputs": [],
   "source": []
  }
 ],
 "metadata": {
  "kernelspec": {
   "display_name": "Python 2",
   "language": "python",
   "name": "python2"
  },
  "language_info": {
   "codemirror_mode": {
    "name": "ipython",
    "version": 2
   },
   "file_extension": ".py",
   "mimetype": "text/x-python",
   "name": "python",
   "nbconvert_exporter": "python",
   "pygments_lexer": "ipython2",
   "version": "2.7.10"
  }
 },
 "nbformat": 4,
 "nbformat_minor": 0
}

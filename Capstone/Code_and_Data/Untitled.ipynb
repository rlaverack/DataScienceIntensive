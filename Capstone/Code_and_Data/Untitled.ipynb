{
 "cells": [
  {
   "cell_type": "code",
   "execution_count": 2,
   "metadata": {
    "collapsed": false
   },
   "outputs": [],
   "source": [
    "%matplotlib inline\n",
    "import pandas as pd\n",
    "import matplotlib.pyplot as plt"
   ]
  },
  {
   "cell_type": "code",
   "execution_count": 6,
   "metadata": {
    "collapsed": false
   },
   "outputs": [
    {
     "data": {
      "text/html": [
       "<div>\n",
       "<table border=\"1\" class=\"dataframe\">\n",
       "  <thead>\n",
       "    <tr style=\"text-align: right;\">\n",
       "      <th></th>\n",
       "      <th>Long</th>\n",
       "      <th>Lat</th>\n",
       "      <th>Annual_Cos</th>\n",
       "      <th>Repair_Cos</th>\n",
       "      <th>nlcd_2006_</th>\n",
       "      <th>Slope</th>\n",
       "    </tr>\n",
       "  </thead>\n",
       "  <tbody>\n",
       "    <tr>\n",
       "      <th>count</th>\n",
       "      <td>12075.000000</td>\n",
       "      <td>12075.000000</td>\n",
       "      <td>12074.000000</td>\n",
       "      <td>12074.000000</td>\n",
       "      <td>11725.000000</td>\n",
       "      <td>12075.000000</td>\n",
       "    </tr>\n",
       "    <tr>\n",
       "      <th>mean</th>\n",
       "      <td>-122.980323</td>\n",
       "      <td>44.624045</td>\n",
       "      <td>206.948119</td>\n",
       "      <td>46534.283321</td>\n",
       "      <td>49.572452</td>\n",
       "      <td>19.899468</td>\n",
       "    </tr>\n",
       "    <tr>\n",
       "      <th>std</th>\n",
       "      <td>2.072520</td>\n",
       "      <td>1.613275</td>\n",
       "      <td>2212.091504</td>\n",
       "      <td>365801.308974</td>\n",
       "      <td>33.484782</td>\n",
       "      <td>11.519739</td>\n",
       "    </tr>\n",
       "    <tr>\n",
       "      <th>min</th>\n",
       "      <td>-124.479415</td>\n",
       "      <td>-90.000000</td>\n",
       "      <td>0.000000</td>\n",
       "      <td>0.000000</td>\n",
       "      <td>0.000000</td>\n",
       "      <td>0.000000</td>\n",
       "    </tr>\n",
       "    <tr>\n",
       "      <th>25%</th>\n",
       "      <td>-123.800088</td>\n",
       "      <td>43.920551</td>\n",
       "      <td>0.000000</td>\n",
       "      <td>0.000000</td>\n",
       "      <td>21.000000</td>\n",
       "      <td>10.741140</td>\n",
       "    </tr>\n",
       "    <tr>\n",
       "      <th>50%</th>\n",
       "      <td>-123.232414</td>\n",
       "      <td>44.784957</td>\n",
       "      <td>0.000000</td>\n",
       "      <td>0.000000</td>\n",
       "      <td>42.000000</td>\n",
       "      <td>18.897410</td>\n",
       "    </tr>\n",
       "    <tr>\n",
       "      <th>75%</th>\n",
       "      <td>-122.432670</td>\n",
       "      <td>45.536771</td>\n",
       "      <td>0.000000</td>\n",
       "      <td>0.000000</td>\n",
       "      <td>82.000000</td>\n",
       "      <td>28.472555</td>\n",
       "    </tr>\n",
       "    <tr>\n",
       "      <th>max</th>\n",
       "      <td>72.952259</td>\n",
       "      <td>46.234450</td>\n",
       "      <td>134000.000000</td>\n",
       "      <td>13793600.000000</td>\n",
       "      <td>95.000000</td>\n",
       "      <td>56.225360</td>\n",
       "    </tr>\n",
       "  </tbody>\n",
       "</table>\n",
       "</div>"
      ],
      "text/plain": [
       "               Long           Lat     Annual_Cos       Repair_Cos  \\\n",
       "count  12075.000000  12075.000000   12074.000000     12074.000000   \n",
       "mean    -122.980323     44.624045     206.948119     46534.283321   \n",
       "std        2.072520      1.613275    2212.091504    365801.308974   \n",
       "min     -124.479415    -90.000000       0.000000         0.000000   \n",
       "25%     -123.800088     43.920551       0.000000         0.000000   \n",
       "50%     -123.232414     44.784957       0.000000         0.000000   \n",
       "75%     -122.432670     45.536771       0.000000         0.000000   \n",
       "max       72.952259     46.234450  134000.000000  13793600.000000   \n",
       "\n",
       "         nlcd_2006_         Slope  \n",
       "count  11725.000000  12075.000000  \n",
       "mean      49.572452     19.899468  \n",
       "std       33.484782     11.519739  \n",
       "min        0.000000      0.000000  \n",
       "25%       21.000000     10.741140  \n",
       "50%       42.000000     18.897410  \n",
       "75%       82.000000     28.472555  \n",
       "max       95.000000     56.225360  "
      ]
     },
     "execution_count": 6,
     "metadata": {},
     "output_type": "execute_result"
    }
   ],
   "source": [
    "landslides = pd.read_csv('landslides_noweather.csv')\n",
    "landslides.describe()"
   ]
  },
  {
   "cell_type": "code",
   "execution_count": 4,
   "metadata": {
    "collapsed": true
   },
   "outputs": [],
   "source": [
    "pd.options.display.mpl_style = 'default'"
   ]
  },
  {
   "cell_type": "code",
   "execution_count": 5,
   "metadata": {
    "collapsed": false
   },
   "outputs": [
    {
     "data": {
      "text/plain": [
       "array([[<matplotlib.axes._subplots.AxesSubplot object at 0x102d1b350>,\n",
       "        <matplotlib.axes._subplots.AxesSubplot object at 0x1059b9dd0>],\n",
       "       [<matplotlib.axes._subplots.AxesSubplot object at 0x1059d56d0>,\n",
       "        <matplotlib.axes._subplots.AxesSubplot object at 0x105bc96d0>],\n",
       "       [<matplotlib.axes._subplots.AxesSubplot object at 0x105de1a10>,\n",
       "        <matplotlib.axes._subplots.AxesSubplot object at 0x105e45910>]], dtype=object)"
      ]
     },
     "execution_count": 5,
     "metadata": {},
     "output_type": "execute_result"
    },
    {
     "data": {
      "image/png": "[encoded data removed]",
      "text/plain": [
       "<matplotlib.figure.Figure at 0x1057999d0>"
      ]
     },
     "metadata": {},
     "output_type": "display_data"
    }
   ],
   "source": [
    "landslides.hist()"
   ]
  },
  {
   "cell_type": "code",
   "execution_count": 7,
   "metadata": {
    "collapsed": false
   },
   "outputs": [
    {
     "data": {
      "text/html": [
       "<div>\n",
       "<table border=\"1\" class=\"dataframe\">\n",
       "  <thead>\n",
       "    <tr style=\"text-align: right;\">\n",
       "      <th></th>\n",
       "      <th>UNIQUE_ID</th>\n",
       "      <th>Long</th>\n",
       "      <th>Lat</th>\n",
       "      <th>DATE</th>\n",
       "      <th>MOVE_CLASS</th>\n",
       "      <th>Annual_Cos</th>\n",
       "      <th>Repair_Cos</th>\n",
       "      <th>MAP_UNIT_L</th>\n",
       "      <th>MAP_UNIT_N</th>\n",
       "      <th>GEO_GENL_U</th>\n",
       "      <th>AGE_NAME</th>\n",
       "      <th>TERRANE_GR</th>\n",
       "      <th>FORMATION</th>\n",
       "      <th>MEMBER</th>\n",
       "      <th>G_ROCK_TYP</th>\n",
       "      <th>nlcd_2006_</th>\n",
       "      <th>Slope</th>\n",
       "    </tr>\n",
       "  </thead>\n",
       "  <tbody>\n",
       "    <tr>\n",
       "      <th>0</th>\n",
       "      <td>LS_0</td>\n",
       "      <td>-120.605220</td>\n",
       "      <td>45.740253</td>\n",
       "      <td>6/20/07</td>\n",
       "      <td>Rockfall</td>\n",
       "      <td>47.680000</td>\n",
       "      <td>1285220.00000</td>\n",
       "      <td>Tf</td>\n",
       "      <td>Frenchman Springs Member</td>\n",
       "      <td>volcanic rocks</td>\n",
       "      <td>Miocene</td>\n",
       "      <td>Columbia River Basalt Group</td>\n",
       "      <td>Wanapum Basalt</td>\n",
       "      <td>Frenchman Springs Member</td>\n",
       "      <td>basalt</td>\n",
       "      <td>41</td>\n",
       "      <td>2.61776</td>\n",
       "    </tr>\n",
       "    <tr>\n",
       "      <th>1</th>\n",
       "      <td>LS_1</td>\n",
       "      <td>-120.546074</td>\n",
       "      <td>45.718373</td>\n",
       "      <td>6/20/07</td>\n",
       "      <td>Debris Flow</td>\n",
       "      <td>237.110001</td>\n",
       "      <td>98678.60156</td>\n",
       "      <td>Tf</td>\n",
       "      <td>Frenchman Springs Member</td>\n",
       "      <td>volcanic rocks</td>\n",
       "      <td>Miocene</td>\n",
       "      <td>Columbia River Basalt Group</td>\n",
       "      <td>Wanapum Basalt</td>\n",
       "      <td>Frenchman Springs Member</td>\n",
       "      <td>basalt</td>\n",
       "      <td>81</td>\n",
       "      <td>2.77631</td>\n",
       "    </tr>\n",
       "    <tr>\n",
       "      <th>2</th>\n",
       "      <td>LS_2</td>\n",
       "      <td>-120.481975</td>\n",
       "      <td>45.687228</td>\n",
       "      <td>3/29/07</td>\n",
       "      <td>Rockfall</td>\n",
       "      <td>47.680000</td>\n",
       "      <td>13793600.00000</td>\n",
       "      <td>Tf</td>\n",
       "      <td>Frenchman Springs Member</td>\n",
       "      <td>volcanic rocks</td>\n",
       "      <td>Miocene</td>\n",
       "      <td>Columbia River Basalt Group</td>\n",
       "      <td>Wanapum Basalt</td>\n",
       "      <td>Frenchman Springs Member</td>\n",
       "      <td>basalt</td>\n",
       "      <td>41</td>\n",
       "      <td>14.03704</td>\n",
       "    </tr>\n",
       "    <tr>\n",
       "      <th>3</th>\n",
       "      <td>LS_3</td>\n",
       "      <td>-120.404544</td>\n",
       "      <td>45.692551</td>\n",
       "      <td>6/20/07</td>\n",
       "      <td>Debris Flow</td>\n",
       "      <td>246.259994</td>\n",
       "      <td>98678.60156</td>\n",
       "      <td>Tf</td>\n",
       "      <td>Frenchman Springs Member</td>\n",
       "      <td>volcanic rocks</td>\n",
       "      <td>Miocene</td>\n",
       "      <td>Columbia River Basalt Group</td>\n",
       "      <td>Wanapum Basalt</td>\n",
       "      <td>Frenchman Springs Member</td>\n",
       "      <td>basalt</td>\n",
       "      <td>41</td>\n",
       "      <td>2.61776</td>\n",
       "    </tr>\n",
       "    <tr>\n",
       "      <th>4</th>\n",
       "      <td>LS_4</td>\n",
       "      <td>-120.381816</td>\n",
       "      <td>45.693490</td>\n",
       "      <td>6/21/07</td>\n",
       "      <td>Rockfall</td>\n",
       "      <td>47.680000</td>\n",
       "      <td>2592600.00000</td>\n",
       "      <td>Tf</td>\n",
       "      <td>Frenchman Springs Member</td>\n",
       "      <td>volcanic rocks</td>\n",
       "      <td>Miocene</td>\n",
       "      <td>Columbia River Basalt Group</td>\n",
       "      <td>Wanapum Basalt</td>\n",
       "      <td>Frenchman Springs Member</td>\n",
       "      <td>basalt</td>\n",
       "      <td>42</td>\n",
       "      <td>29.72073</td>\n",
       "    </tr>\n",
       "  </tbody>\n",
       "</table>\n",
       "</div>"
      ],
      "text/plain": [
       "  UNIQUE_ID        Long        Lat     DATE   MOVE_CLASS  Annual_Cos  \\\n",
       "0      LS_0 -120.605220  45.740253  6/20/07     Rockfall   47.680000   \n",
       "1      LS_1 -120.546074  45.718373  6/20/07  Debris Flow  237.110001   \n",
       "2      LS_2 -120.481975  45.687228  3/29/07     Rockfall   47.680000   \n",
       "3      LS_3 -120.404544  45.692551  6/20/07  Debris Flow  246.259994   \n",
       "4      LS_4 -120.381816  45.693490  6/21/07     Rockfall   47.680000   \n",
       "\n",
       "       Repair_Cos MAP_UNIT_L                MAP_UNIT_N      GEO_GENL_U  \\\n",
       "0   1285220.00000         Tf  Frenchman Springs Member  volcanic rocks   \n",
       "1     98678.60156         Tf  Frenchman Springs Member  volcanic rocks   \n",
       "2  13793600.00000         Tf  Frenchman Springs Member  volcanic rocks   \n",
       "3     98678.60156         Tf  Frenchman Springs Member  volcanic rocks   \n",
       "4   2592600.00000         Tf  Frenchman Springs Member  volcanic rocks   \n",
       "\n",
       "  AGE_NAME                   TERRANE_GR       FORMATION  \\\n",
       "0  Miocene  Columbia River Basalt Group  Wanapum Basalt   \n",
       "1  Miocene  Columbia River Basalt Group  Wanapum Basalt   \n",
       "2  Miocene  Columbia River Basalt Group  Wanapum Basalt   \n",
       "3  Miocene  Columbia River Basalt Group  Wanapum Basalt   \n",
       "4  Miocene  Columbia River Basalt Group  Wanapum Basalt   \n",
       "\n",
       "                     MEMBER G_ROCK_TYP  nlcd_2006_     Slope  \n",
       "0  Frenchman Springs Member     basalt          41   2.61776  \n",
       "1  Frenchman Springs Member     basalt          81   2.77631  \n",
       "2  Frenchman Springs Member     basalt          41  14.03704  \n",
       "3  Frenchman Springs Member     basalt          41   2.61776  \n",
       "4  Frenchman Springs Member     basalt          42  29.72073  "
      ]
     },
     "execution_count": 7,
     "metadata": {},
     "output_type": "execute_result"
    }
   ],
   "source": [
    "landslides.head()"
   ]
  },
  {
   "cell_type": "code",
   "execution_count": 12,
   "metadata": {
    "collapsed": false
   },
   "outputs": [
    {
     "data": {
      "text/plain": [
       "Tt      1394\n",
       "Qal      526\n",
       "Qls      481\n",
       "Tlt      350\n",
       "Tu       329\n",
       "Tgsb     327\n",
       "Tps      320\n",
       "Tpb      300\n",
       "Tet      296\n",
       "Tn       238\n",
       "Name: MAP_UNIT_L, dtype: int64"
      ]
     },
     "execution_count": 12,
     "metadata": {},
     "output_type": "execute_result"
    }
   ],
   "source": [
    "landslides['MAP_UNIT_L'].value_counts().head(10)"
   ]
  },
  {
   "cell_type": "code",
   "execution_count": null,
   "metadata": {
    "collapsed": true
   },
   "outputs": [],
   "source": []
  }
 ],
 "metadata": {
  "kernelspec": {
   "display_name": "Python 2",
   "language": "python",
   "name": "python2"
  },
  "language_info": {
   "codemirror_mode": {
    "name": "ipython",
    "version": 2
   },
   "file_extension": ".py",
   "mimetype": "text/x-python",
   "name": "python",
   "nbconvert_exporter": "python",
   "pygments_lexer": "ipython2",
   "version": "2.7.10"
  }
 },
 "nbformat": 4,
 "nbformat_minor": 0
}

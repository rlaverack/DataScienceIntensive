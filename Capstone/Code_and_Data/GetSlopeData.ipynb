{
 "cells": [
  {
   "cell_type": "code",
   "execution_count": 2,
   "metadata": {
    "collapsed": false
   },
   "outputs": [],
   "source": [
    "import pandas as pd"
   ]
  },
  {
   "cell_type": "code",
   "execution_count": 5,
   "metadata": {
    "collapsed": false
   },
   "outputs": [],
   "source": [
    "slope_data = pd.read_csv('LandslideSlopeData.csv')"
   ]
  },
  {
   "cell_type": "code",
   "execution_count": 6,
   "metadata": {
    "collapsed": false
   },
   "outputs": [
    {
     "data": {
      "text/html": [
       "<div>\n",
       "<table border=\"1\" class=\"dataframe\">\n",
       "  <thead>\n",
       "    <tr style=\"text-align: right;\">\n",
       "      <th></th>\n",
       "      <th>X</th>\n",
       "      <th>Y</th>\n",
       "      <th>Northeast</th>\n",
       "      <th>North</th>\n",
       "      <th>Center</th>\n",
       "      <th>West_SLOPE</th>\n",
       "      <th>Northwest</th>\n",
       "      <th>SouthEast_</th>\n",
       "      <th>East</th>\n",
       "      <th>South</th>\n",
       "      <th>SouthWest</th>\n",
       "    </tr>\n",
       "  </thead>\n",
       "  <tbody>\n",
       "    <tr>\n",
       "      <th>0</th>\n",
       "      <td>1285467.394029</td>\n",
       "      <td>1454567.758530</td>\n",
       "      <td>NaN</td>\n",
       "      <td>2.61776</td>\n",
       "      <td>NaN</td>\n",
       "      <td>NaN</td>\n",
       "      <td>NaN</td>\n",
       "      <td>NaN</td>\n",
       "      <td>NaN</td>\n",
       "      <td>NaN</td>\n",
       "      <td>NaN</td>\n",
       "    </tr>\n",
       "    <tr>\n",
       "      <th>1</th>\n",
       "      <td>1300566.281168</td>\n",
       "      <td>1446574.309383</td>\n",
       "      <td>NaN</td>\n",
       "      <td>2.77631</td>\n",
       "      <td>NaN</td>\n",
       "      <td>NaN</td>\n",
       "      <td>NaN</td>\n",
       "      <td>NaN</td>\n",
       "      <td>NaN</td>\n",
       "      <td>NaN</td>\n",
       "      <td>NaN</td>\n",
       "    </tr>\n",
       "    <tr>\n",
       "      <th>2</th>\n",
       "      <td>1316943.110236</td>\n",
       "      <td>1435213.604987</td>\n",
       "      <td>NaN</td>\n",
       "      <td>14.03704</td>\n",
       "      <td>NaN</td>\n",
       "      <td>NaN</td>\n",
       "      <td>NaN</td>\n",
       "      <td>NaN</td>\n",
       "      <td>NaN</td>\n",
       "      <td>NaN</td>\n",
       "      <td>NaN</td>\n",
       "    </tr>\n",
       "    <tr>\n",
       "      <th>3</th>\n",
       "      <td>1336731.661089</td>\n",
       "      <td>1437168.634186</td>\n",
       "      <td>NaN</td>\n",
       "      <td>2.61776</td>\n",
       "      <td>NaN</td>\n",
       "      <td>NaN</td>\n",
       "      <td>NaN</td>\n",
       "      <td>NaN</td>\n",
       "      <td>NaN</td>\n",
       "      <td>NaN</td>\n",
       "      <td>NaN</td>\n",
       "    </tr>\n",
       "    <tr>\n",
       "      <th>4</th>\n",
       "      <td>1342539.546916</td>\n",
       "      <td>1437518.348097</td>\n",
       "      <td>NaN</td>\n",
       "      <td>29.72073</td>\n",
       "      <td>NaN</td>\n",
       "      <td>NaN</td>\n",
       "      <td>NaN</td>\n",
       "      <td>NaN</td>\n",
       "      <td>NaN</td>\n",
       "      <td>NaN</td>\n",
       "      <td>NaN</td>\n",
       "    </tr>\n",
       "  </tbody>\n",
       "</table>\n",
       "</div>"
      ],
      "text/plain": [
       "                X               Y  Northeast     North  Center  West_SLOPE  \\\n",
       "0  1285467.394029  1454567.758530        NaN   2.61776     NaN         NaN   \n",
       "1  1300566.281168  1446574.309383        NaN   2.77631     NaN         NaN   \n",
       "2  1316943.110236  1435213.604987        NaN  14.03704     NaN         NaN   \n",
       "3  1336731.661089  1437168.634186        NaN   2.61776     NaN         NaN   \n",
       "4  1342539.546916  1437518.348097        NaN  29.72073     NaN         NaN   \n",
       "\n",
       "   Northwest  SouthEast_  East  South  SouthWest  \n",
       "0        NaN         NaN   NaN    NaN        NaN  \n",
       "1        NaN         NaN   NaN    NaN        NaN  \n",
       "2        NaN         NaN   NaN    NaN        NaN  \n",
       "3        NaN         NaN   NaN    NaN        NaN  \n",
       "4        NaN         NaN   NaN    NaN        NaN  "
      ]
     },
     "execution_count": 6,
     "metadata": {},
     "output_type": "execute_result"
    }
   ],
   "source": [
    "slope_data.head()"
   ]
  },
  {
   "cell_type": "code",
   "execution_count": 13,
   "metadata": {
    "collapsed": false
   },
   "outputs": [],
   "source": [
    "slope_data.fillna(0, inplace = True)"
   ]
  },
  {
   "cell_type": "code",
   "execution_count": 14,
   "metadata": {
    "collapsed": false
   },
   "outputs": [],
   "source": [
    "slope_data[\"Slope\"] = slope_data[\"Northeast\"] + slope_data[\"North\"] + slope_data['Center'] + slope_data['West_SLOPE']  + slope_data['Northwest'] + slope_data['SouthEast_'] + slope_data['East'] + slope_data['South'] + slope_data['SouthWest']"
   ]
  },
  {
   "cell_type": "code",
   "execution_count": 15,
   "metadata": {
    "collapsed": false
   },
   "outputs": [
    {
     "data": {
      "text/html": [
       "<div>\n",
       "<table border=\"1\" class=\"dataframe\">\n",
       "  <thead>\n",
       "    <tr style=\"text-align: right;\">\n",
       "      <th></th>\n",
       "      <th>X</th>\n",
       "      <th>Y</th>\n",
       "      <th>Northeast</th>\n",
       "      <th>North</th>\n",
       "      <th>Center</th>\n",
       "      <th>West_SLOPE</th>\n",
       "      <th>Northwest</th>\n",
       "      <th>SouthEast_</th>\n",
       "      <th>East</th>\n",
       "      <th>South</th>\n",
       "      <th>SouthWest</th>\n",
       "      <th>Slope</th>\n",
       "    </tr>\n",
       "  </thead>\n",
       "  <tbody>\n",
       "    <tr>\n",
       "      <th>0</th>\n",
       "      <td>1285467.394029</td>\n",
       "      <td>1454567.758530</td>\n",
       "      <td>0</td>\n",
       "      <td>2.61776</td>\n",
       "      <td>0</td>\n",
       "      <td>0</td>\n",
       "      <td>0</td>\n",
       "      <td>0</td>\n",
       "      <td>0</td>\n",
       "      <td>0</td>\n",
       "      <td>0</td>\n",
       "      <td>2.61776</td>\n",
       "    </tr>\n",
       "    <tr>\n",
       "      <th>1</th>\n",
       "      <td>1300566.281168</td>\n",
       "      <td>1446574.309383</td>\n",
       "      <td>0</td>\n",
       "      <td>2.77631</td>\n",
       "      <td>0</td>\n",
       "      <td>0</td>\n",
       "      <td>0</td>\n",
       "      <td>0</td>\n",
       "      <td>0</td>\n",
       "      <td>0</td>\n",
       "      <td>0</td>\n",
       "      <td>2.77631</td>\n",
       "    </tr>\n",
       "    <tr>\n",
       "      <th>2</th>\n",
       "      <td>1316943.110236</td>\n",
       "      <td>1435213.604987</td>\n",
       "      <td>0</td>\n",
       "      <td>14.03704</td>\n",
       "      <td>0</td>\n",
       "      <td>0</td>\n",
       "      <td>0</td>\n",
       "      <td>0</td>\n",
       "      <td>0</td>\n",
       "      <td>0</td>\n",
       "      <td>0</td>\n",
       "      <td>14.03704</td>\n",
       "    </tr>\n",
       "    <tr>\n",
       "      <th>3</th>\n",
       "      <td>1336731.661089</td>\n",
       "      <td>1437168.634186</td>\n",
       "      <td>0</td>\n",
       "      <td>2.61776</td>\n",
       "      <td>0</td>\n",
       "      <td>0</td>\n",
       "      <td>0</td>\n",
       "      <td>0</td>\n",
       "      <td>0</td>\n",
       "      <td>0</td>\n",
       "      <td>0</td>\n",
       "      <td>2.61776</td>\n",
       "    </tr>\n",
       "    <tr>\n",
       "      <th>4</th>\n",
       "      <td>1342539.546916</td>\n",
       "      <td>1437518.348097</td>\n",
       "      <td>0</td>\n",
       "      <td>29.72073</td>\n",
       "      <td>0</td>\n",
       "      <td>0</td>\n",
       "      <td>0</td>\n",
       "      <td>0</td>\n",
       "      <td>0</td>\n",
       "      <td>0</td>\n",
       "      <td>0</td>\n",
       "      <td>29.72073</td>\n",
       "    </tr>\n",
       "  </tbody>\n",
       "</table>\n",
       "</div>"
      ],
      "text/plain": [
       "                X               Y  Northeast     North  Center  West_SLOPE  \\\n",
       "0  1285467.394029  1454567.758530          0   2.61776       0           0   \n",
       "1  1300566.281168  1446574.309383          0   2.77631       0           0   \n",
       "2  1316943.110236  1435213.604987          0  14.03704       0           0   \n",
       "3  1336731.661089  1437168.634186          0   2.61776       0           0   \n",
       "4  1342539.546916  1437518.348097          0  29.72073       0           0   \n",
       "\n",
       "   Northwest  SouthEast_  East  South  SouthWest     Slope  \n",
       "0          0           0     0      0          0   2.61776  \n",
       "1          0           0     0      0          0   2.77631  \n",
       "2          0           0     0      0          0  14.03704  \n",
       "3          0           0     0      0          0   2.61776  \n",
       "4          0           0     0      0          0  29.72073  "
      ]
     },
     "execution_count": 15,
     "metadata": {},
     "output_type": "execute_result"
    }
   ],
   "source": [
    "slope_data.head()"
   ]
  },
  {
   "cell_type": "code",
   "execution_count": 18,
   "metadata": {
    "collapsed": false
   },
   "outputs": [],
   "source": [
    "LandslideSlopes = slope_data[['X','Y','Slope']]"
   ]
  },
  {
   "cell_type": "code",
   "execution_count": 19,
   "metadata": {
    "collapsed": true
   },
   "outputs": [],
   "source": [
    "LandslideSlopes.to_csv('SlopeData.csv')"
   ]
  },
  {
   "cell_type": "code",
   "execution_count": null,
   "metadata": {
    "collapsed": true
   },
   "outputs": [],
   "source": []
  }
 ],
 "metadata": {
  "kernelspec": {
   "display_name": "Python 2",
   "language": "python",
   "name": "python2"
  },
  "language_info": {
   "codemirror_mode": {
    "name": "ipython",
    "version": 2
   },
   "file_extension": ".py",
   "mimetype": "text/x-python",
   "name": "python",
   "nbconvert_exporter": "python",
   "pygments_lexer": "ipython2",
   "version": "2.7.10"
  }
 },
 "nbformat": 4,
 "nbformat_minor": 0
}

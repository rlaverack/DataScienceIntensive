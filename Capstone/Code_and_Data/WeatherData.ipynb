{
 "cells": [
  {
   "cell_type": "code",
   "execution_count": 10,
   "metadata": {
    "collapsed": true
   },
   "outputs": [],
   "source": [
    "import pandas as pd\n",
    "from pandas import DataFrame\n",
    "import datetime\n",
    "from datetime import datetime\n",
    "import time\n",
    "import urllib\n",
    "from urllib import urlopen\n",
    "import json"
   ]
  },
  {
   "cell_type": "code",
   "execution_count": 12,
   "metadata": {
    "collapsed": false
   },
   "outputs": [],
   "source": [
    "\n",
    "landslides = pd.read_csv('landslides_list.csv')\n",
    "\n",
    "landslides['DATE'] = pd.to_datetime(landslides['DATE'])"
   ]
  },
  {
   "cell_type": "code",
   "execution_count": 13,
   "metadata": {
    "collapsed": false
   },
   "outputs": [
    {
     "data": {
      "text/html": [
       "<div>\n",
       "<table border=\"1\" class=\"dataframe\">\n",
       "  <thead>\n",
       "    <tr style=\"text-align: right;\">\n",
       "      <th></th>\n",
       "      <th>Unnamed: 0</th>\n",
       "      <th>UNIQUE_ID</th>\n",
       "      <th>Long</th>\n",
       "      <th>Lat</th>\n",
       "      <th>DATE</th>\n",
       "      <th>MOVE_CLASS</th>\n",
       "      <th>Annual_Cos</th>\n",
       "      <th>Repair_Cos</th>\n",
       "    </tr>\n",
       "  </thead>\n",
       "  <tbody>\n",
       "    <tr>\n",
       "      <th>0</th>\n",
       "      <td>1</td>\n",
       "      <td>LS_1</td>\n",
       "      <td>-120.546074</td>\n",
       "      <td>45.718373</td>\n",
       "      <td>2007-06-20</td>\n",
       "      <td>Debris Flow</td>\n",
       "      <td>237.110001</td>\n",
       "      <td>98678.60156</td>\n",
       "    </tr>\n",
       "    <tr>\n",
       "      <th>1</th>\n",
       "      <td>3</td>\n",
       "      <td>LS_3</td>\n",
       "      <td>-120.404544</td>\n",
       "      <td>45.692551</td>\n",
       "      <td>2007-06-20</td>\n",
       "      <td>Debris Flow</td>\n",
       "      <td>246.259994</td>\n",
       "      <td>98678.60156</td>\n",
       "    </tr>\n",
       "    <tr>\n",
       "      <th>2</th>\n",
       "      <td>11</td>\n",
       "      <td>LS_11</td>\n",
       "      <td>-122.143866</td>\n",
       "      <td>45.575849</td>\n",
       "      <td>2008-08-13</td>\n",
       "      <td>Fill Failure</td>\n",
       "      <td>0.000000</td>\n",
       "      <td>0.00000</td>\n",
       "    </tr>\n",
       "    <tr>\n",
       "      <th>3</th>\n",
       "      <td>12</td>\n",
       "      <td>LS_12</td>\n",
       "      <td>-122.098129</td>\n",
       "      <td>45.583461</td>\n",
       "      <td>2008-08-13</td>\n",
       "      <td>Fill Failure</td>\n",
       "      <td>0.000000</td>\n",
       "      <td>0.00000</td>\n",
       "    </tr>\n",
       "    <tr>\n",
       "      <th>4</th>\n",
       "      <td>14</td>\n",
       "      <td>LS_14</td>\n",
       "      <td>-121.985557</td>\n",
       "      <td>45.619760</td>\n",
       "      <td>2008-08-12</td>\n",
       "      <td>Fill Failure</td>\n",
       "      <td>0.000000</td>\n",
       "      <td>0.00000</td>\n",
       "    </tr>\n",
       "  </tbody>\n",
       "</table>\n",
       "</div>"
      ],
      "text/plain": [
       "   Unnamed: 0 UNIQUE_ID        Long        Lat       DATE    MOVE_CLASS  \\\n",
       "0           1      LS_1 -120.546074  45.718373 2007-06-20   Debris Flow   \n",
       "1           3      LS_3 -120.404544  45.692551 2007-06-20   Debris Flow   \n",
       "2          11     LS_11 -122.143866  45.575849 2008-08-13  Fill Failure   \n",
       "3          12     LS_12 -122.098129  45.583461 2008-08-13  Fill Failure   \n",
       "4          14     LS_14 -121.985557  45.619760 2008-08-12  Fill Failure   \n",
       "\n",
       "   Annual_Cos   Repair_Cos  \n",
       "0  237.110001  98678.60156  \n",
       "1  246.259994  98678.60156  \n",
       "2    0.000000      0.00000  \n",
       "3    0.000000      0.00000  \n",
       "4    0.000000      0.00000  "
      ]
     },
     "execution_count": 13,
     "metadata": {},
     "output_type": "execute_result"
    }
   ],
   "source": [
    "landslides.head()"
   ]
  },
  {
   "cell_type": "code",
   "execution_count": 22,
   "metadata": {
    "collapsed": false
   },
   "outputs": [
    {
     "data": {
      "text/plain": [
       "Timestamp('2007-06-20 00:00:00')"
      ]
     },
     "execution_count": 22,
     "metadata": {},
     "output_type": "execute_result"
    }
   ],
   "source": [
    "day = landslides['DATE'][1]\n",
    "day"
   ]
  },
  {
   "cell_type": "code",
   "execution_count": 23,
   "metadata": {
    "collapsed": false
   },
   "outputs": [
    {
     "data": {
      "text/plain": [
       "'20070620'"
      ]
     },
     "execution_count": 23,
     "metadata": {},
     "output_type": "execute_result"
    }
   ],
   "source": [
    "    if day.month < 10 and day.day < 10:\n",
    "        date = str(day.year)+'0'+str(day.month)+'0'+str(day.day)\n",
    "    elif day.month < 10 and day.day >= 10:\n",
    "        date = str(day.year)+'0'+str(day.month)+str(day.day)\n",
    "    elif day.month >= 10 and day.day < 10:\n",
    "        date = str(day.year)+str(day.month)+'0'+str(day.day)\n",
    "    else:\n",
    "        date = str(day.year)+str(day.month)+str(day.day)\n",
    "date"
   ]
  },
  {
   "cell_type": "code",
   "execution_count": 24,
   "metadata": {
    "collapsed": true
   },
   "outputs": [],
   "source": [
    "lat = 35"
   ]
  },
  {
   "cell_type": "code",
   "execution_count": 25,
   "metadata": {
    "collapsed": true
   },
   "outputs": [],
   "source": [
    "lon = -121"
   ]
  },
  {
   "cell_type": "code",
   "execution_count": 27,
   "metadata": {
    "collapsed": false
   },
   "outputs": [],
   "source": [
    "f = urlopen('http://api.wunderground.com/api/89a029dbd7dd2b59/history_{2}/geolookup/q/{0},{1}.json'.format(str(lat),str(lon),str(date)))\n",
    "json_string = f.read()\n",
    "parsed_json = json.loads(json_string)"
   ]
  },
  {
   "cell_type": "code",
   "execution_count": 32,
   "metadata": {
    "collapsed": false
   },
   "outputs": [],
   "source": [
    "date_sum = pd.io.json.json_normalize(parsed_json['history']['dailysummary'])"
   ]
  },
  {
   "cell_type": "code",
   "execution_count": 33,
   "metadata": {
    "collapsed": false
   },
   "outputs": [
    {
     "data": {
      "text/plain": [
       "[u'coolingdegreedays',\n",
       " u'coolingdegreedaysnormal',\n",
       " 'date.hour',\n",
       " 'date.mday',\n",
       " 'date.min',\n",
       " 'date.mon',\n",
       " 'date.pretty',\n",
       " 'date.tzname',\n",
       " 'date.year',\n",
       " u'fog',\n",
       " u'gdegreedays',\n",
       " u'hail',\n",
       " u'heatingdegreedays',\n",
       " u'heatingdegreedaysnormal',\n",
       " u'humidity',\n",
       " u'maxdewpti',\n",
       " u'maxdewptm',\n",
       " u'maxhumidity',\n",
       " u'maxpressurei',\n",
       " u'maxpressurem',\n",
       " u'maxtempi',\n",
       " u'maxtempm',\n",
       " u'maxvisi',\n",
       " u'maxvism',\n",
       " u'maxwspdi',\n",
       " u'maxwspdm',\n",
       " u'meandewpti',\n",
       " u'meandewptm',\n",
       " u'meanpressurei',\n",
       " u'meanpressurem',\n",
       " u'meantempi',\n",
       " u'meantempm',\n",
       " u'meanvisi',\n",
       " u'meanvism',\n",
       " u'meanwdird',\n",
       " u'meanwdire',\n",
       " u'meanwindspdi',\n",
       " u'meanwindspdm',\n",
       " u'mindewpti',\n",
       " u'mindewptm',\n",
       " u'minhumidity',\n",
       " u'minpressurei',\n",
       " u'minpressurem',\n",
       " u'mintempi',\n",
       " u'mintempm',\n",
       " u'minvisi',\n",
       " u'minvism',\n",
       " u'minwspdi',\n",
       " u'minwspdm',\n",
       " u'monthtodatecoolingdegreedays',\n",
       " u'monthtodatecoolingdegreedaysnormal',\n",
       " u'monthtodateheatingdegreedays',\n",
       " u'monthtodateheatingdegreedaysnormal',\n",
       " u'monthtodatesnowfalli',\n",
       " u'monthtodatesnowfallm',\n",
       " u'precipi',\n",
       " u'precipm',\n",
       " u'precipsource',\n",
       " u'rain',\n",
       " u'since1jancoolingdegreedays',\n",
       " u'since1jancoolingdegreedaysnormal',\n",
       " u'since1julheatingdegreedays',\n",
       " u'since1julheatingdegreedaysnormal',\n",
       " u'since1julsnowfalli',\n",
       " u'since1julsnowfallm',\n",
       " u'since1sepcoolingdegreedays',\n",
       " u'since1sepcoolingdegreedaysnormal',\n",
       " u'since1sepheatingdegreedays',\n",
       " u'since1sepheatingdegreedaysnormal',\n",
       " u'snow',\n",
       " u'snowdepthi',\n",
       " u'snowdepthm',\n",
       " u'snowfalli',\n",
       " u'snowfallm',\n",
       " u'thunder',\n",
       " u'tornado']"
      ]
     },
     "execution_count": 33,
     "metadata": {},
     "output_type": "execute_result"
    }
   ],
   "source": [
    "list(date_sum)"
   ]
  },
  {
   "cell_type": "code",
   "execution_count": 34,
   "metadata": {
    "collapsed": false
   },
   "outputs": [
    {
     "data": {
      "text/html": [
       "<div>\n",
       "<table border=\"1\" class=\"dataframe\">\n",
       "  <thead>\n",
       "    <tr style=\"text-align: right;\">\n",
       "      <th></th>\n",
       "      <th>coolingdegreedays</th>\n",
       "      <th>coolingdegreedaysnormal</th>\n",
       "      <th>date.hour</th>\n",
       "      <th>date.mday</th>\n",
       "      <th>date.min</th>\n",
       "      <th>date.mon</th>\n",
       "      <th>date.pretty</th>\n",
       "      <th>date.tzname</th>\n",
       "      <th>date.year</th>\n",
       "      <th>fog</th>\n",
       "      <th>...</th>\n",
       "      <th>since1sepcoolingdegreedaysnormal</th>\n",
       "      <th>since1sepheatingdegreedays</th>\n",
       "      <th>since1sepheatingdegreedaysnormal</th>\n",
       "      <th>snow</th>\n",
       "      <th>snowdepthi</th>\n",
       "      <th>snowdepthm</th>\n",
       "      <th>snowfalli</th>\n",
       "      <th>snowfallm</th>\n",
       "      <th>thunder</th>\n",
       "      <th>tornado</th>\n",
       "    </tr>\n",
       "  </thead>\n",
       "  <tbody>\n",
       "    <tr>\n",
       "      <th>0</th>\n",
       "      <td>0</td>\n",
       "      <td></td>\n",
       "      <td>12</td>\n",
       "      <td>20</td>\n",
       "      <td>00</td>\n",
       "      <td>06</td>\n",
       "      <td>12:00 PM PDT on June 20, 2007</td>\n",
       "      <td>America/Los_Angeles</td>\n",
       "      <td>2007</td>\n",
       "      <td>0</td>\n",
       "      <td>...</td>\n",
       "      <td></td>\n",
       "      <td></td>\n",
       "      <td></td>\n",
       "      <td>0</td>\n",
       "      <td></td>\n",
       "      <td></td>\n",
       "      <td>0.00</td>\n",
       "      <td>0.00</td>\n",
       "      <td>0</td>\n",
       "      <td>0</td>\n",
       "    </tr>\n",
       "  </tbody>\n",
       "</table>\n",
       "<p>1 rows × 76 columns</p>\n",
       "</div>"
      ],
      "text/plain": [
       "  coolingdegreedays coolingdegreedaysnormal date.hour date.mday date.min  \\\n",
       "0                 0                                12        20       00   \n",
       "\n",
       "  date.mon                    date.pretty          date.tzname date.year fog  \\\n",
       "0       06  12:00 PM PDT on June 20, 2007  America/Los_Angeles      2007   0   \n",
       "\n",
       "    ...   since1sepcoolingdegreedaysnormal since1sepheatingdegreedays  \\\n",
       "0   ...                                                                 \n",
       "\n",
       "  since1sepheatingdegreedaysnormal snow snowdepthi snowdepthm snowfalli  \\\n",
       "0                                     0                            0.00   \n",
       "\n",
       "  snowfallm thunder tornado  \n",
       "0      0.00       0       0  \n",
       "\n",
       "[1 rows x 76 columns]"
      ]
     },
     "execution_count": 34,
     "metadata": {},
     "output_type": "execute_result"
    }
   ],
   "source": [
    "date_sum.head()"
   ]
  },
  {
   "cell_type": "code",
   "execution_count": null,
   "metadata": {
    "collapsed": true
   },
   "outputs": [],
   "source": []
  }
 ],
 "metadata": {
  "kernelspec": {
   "display_name": "Python 2",
   "language": "python",
   "name": "python2"
  },
  "language_info": {
   "codemirror_mode": {
    "name": "ipython",
    "version": 2
   },
   "file_extension": ".py",
   "mimetype": "text/x-python",
   "name": "python",
   "nbconvert_exporter": "python",
   "pygments_lexer": "ipython2",
   "version": "2.7.10"
  }
 },
 "nbformat": 4,
 "nbformat_minor": 0
}

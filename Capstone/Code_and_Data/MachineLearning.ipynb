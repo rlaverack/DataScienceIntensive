{
 "cells": [
  {
   "cell_type": "markdown",
   "metadata": {},
   "source": [
    "# Predicting Landslides in Oregon\n",
    "## Reed Laverack, February 2016\n"
   ]
  },
  {
   "cell_type": "code",
   "execution_count": 47,
   "metadata": {
    "collapsed": true
   },
   "outputs": [],
   "source": [
    "import numpy as np\n",
    "import pandas as pd\n",
    "import statsmodels.api as sm\n",
    "import matplotlib.pyplot as plt\n",
    "from patsy import dmatrices\n",
    "from sklearn.cross_validation import train_test_split\n",
    "from sklearn import metrics\n",
    "from sklearn.cross_validation import cross_val_score\n",
    "from time import time\n",
    "from sklearn.ensemble import RandomForestClassifier\n",
    "from sklearn.metrics import roc_auc_score\n",
    "from sklearn.metrics import accuracy_score"
   ]
  },
  {
   "cell_type": "markdown",
   "metadata": {
    "collapsed": false
   },
   "source": [
    "Load Data Frames"
   ]
  },
  {
   "cell_type": "code",
   "execution_count": 48,
   "metadata": {
    "collapsed": false
   },
   "outputs": [],
   "source": [
    "X = pd.read_csv(\"X_whole.csv\")\n",
    "y = pd.read_csv(\"y_whole.csv\").pop('SLIDE')"
   ]
  },
  {
   "cell_type": "markdown",
   "metadata": {},
   "source": [
    "Split into training and testing sets with the training set comprising of 30%"
   ]
  },
  {
   "cell_type": "code",
   "execution_count": 49,
   "metadata": {
    "collapsed": false
   },
   "outputs": [],
   "source": [
    "X_train, X_test, y_train, y_test = train_test_split(X, y, test_size=0.30)"
   ]
  },
  {
   "cell_type": "markdown",
   "metadata": {},
   "source": [
    "Load Random forest classifier, fit it to the training set and use it to predict on the testing set. "
   ]
  },
  {
   "cell_type": "code",
   "execution_count": 50,
   "metadata": {
    "collapsed": true
   },
   "outputs": [],
   "source": [
    "clf = RandomForestClassifier(n_estimators=1000,min_samples_split=5)"
   ]
  },
  {
   "cell_type": "code",
   "execution_count": 52,
   "metadata": {
    "collapsed": false
   },
   "outputs": [
    {
     "name": "stdout",
     "output_type": "stream",
     "text": [
      "('Training time:', 3.723, 's')\n"
     ]
    }
   ],
   "source": [
    "t0 = time()\n",
    "clf.fit(X_train, y_train)\n",
    "print (\"Training time:\", round(time() - t0, 3), \"s\")\n"
   ]
  },
  {
   "cell_type": "code",
   "execution_count": 14,
   "metadata": {
    "collapsed": false
   },
   "outputs": [
    {
     "name": "stdout",
     "output_type": "stream",
     "text": [
      "('predicting time:', 0.445, 's')\n"
     ]
    }
   ],
   "source": [
    "#Predict on test set\n",
    "t1 = time()\n",
    "pred = clf.predict(X_test)\n",
    "print (\"predicting time:\", round(time() - t1, 3), \"s\")\n"
   ]
  },
  {
   "cell_type": "code",
   "execution_count": 15,
   "metadata": {
    "collapsed": false
   },
   "outputs": [
    {
     "data": {
      "text/plain": [
       "0.83698630136986296"
      ]
     },
     "execution_count": 15,
     "metadata": {},
     "output_type": "execute_result"
    }
   ],
   "source": [
    "accuracy_score(pred, y_test)"
   ]
  },
  {
   "cell_type": "code",
   "execution_count": null,
   "metadata": {
    "collapsed": false
   },
   "outputs": [],
   "source": []
  },
  {
   "cell_type": "code",
   "execution_count": null,
   "metadata": {
    "collapsed": true
   },
   "outputs": [],
   "source": []
  },
  {
   "cell_type": "code",
   "execution_count": null,
   "metadata": {
    "collapsed": true
   },
   "outputs": [],
   "source": []
  },
  {
   "cell_type": "code",
   "execution_count": null,
   "metadata": {
    "collapsed": false
   },
   "outputs": [],
   "source": []
  },
  {
   "cell_type": "code",
   "execution_count": null,
   "metadata": {
    "collapsed": false
   },
   "outputs": [],
   "source": []
  },
  {
   "cell_type": "code",
   "execution_count": null,
   "metadata": {
    "collapsed": true
   },
   "outputs": [],
   "source": []
  },
  {
   "cell_type": "code",
   "execution_count": null,
   "metadata": {
    "collapsed": true
   },
   "outputs": [],
   "source": []
  },
  {
   "cell_type": "code",
   "execution_count": null,
   "metadata": {
    "collapsed": true
   },
   "outputs": [],
   "source": []
  },
  {
   "cell_type": "code",
   "execution_count": null,
   "metadata": {
    "collapsed": false
   },
   "outputs": [],
   "source": []
  },
  {
   "cell_type": "code",
   "execution_count": null,
   "metadata": {
    "collapsed": false
   },
   "outputs": [],
   "source": []
  },
  {
   "cell_type": "code",
   "execution_count": null,
   "metadata": {
    "collapsed": false
   },
   "outputs": [],
   "source": []
  },
  {
   "cell_type": "code",
   "execution_count": null,
   "metadata": {
    "collapsed": false
   },
   "outputs": [],
   "source": []
  },
  {
   "cell_type": "code",
   "execution_count": null,
   "metadata": {
    "collapsed": true
   },
   "outputs": [],
   "source": []
  },
  {
   "cell_type": "code",
   "execution_count": null,
   "metadata": {
    "collapsed": false
   },
   "outputs": [],
   "source": []
  },
  {
   "cell_type": "code",
   "execution_count": null,
   "metadata": {
    "collapsed": false
   },
   "outputs": [],
   "source": []
  },
  {
   "cell_type": "markdown",
   "metadata": {
    "collapsed": false,
    "scrolled": true
   },
   "source": [
    "Find the feature importances in the decision tree"
   ]
  },
  {
   "cell_type": "code",
   "execution_count": 16,
   "metadata": {
    "collapsed": false
   },
   "outputs": [],
   "source": [
    "importances = clf.feature_importances_\n",
    "std = np.std([tree.feature_importances_ for tree in clf.estimators_],axis=0)\n",
    "indices = np.argsort(importances)[::-1]\n",
    "features = pd.DataFrame(list(X))"
   ]
  },
  {
   "cell_type": "code",
   "execution_count": 17,
   "metadata": {
    "collapsed": false
   },
   "outputs": [
    {
     "name": "stdout",
     "output_type": "stream",
     "text": [
      "Feature ranking:\n",
      "1. feature 0 : Slope : (0.138488)\n",
      "2. feature 48 : COVERAGE_Developed, Open : (0.105309)\n",
      "3. feature 2 : Precip_Mon : (0.066014)\n",
      "4. feature 3 : Soil_Moist : (0.060670)\n",
      "5. feature 6 : Soil_Temp : (0.057412)\n",
      "6. feature 5 : Vegetation : (0.056137)\n",
      "7. feature 4 : Soil_Moist_Depth : (0.053907)\n",
      "8. feature 8 : maxtempi : (0.048984)\n",
      "9. feature 9 : mintempi : (0.044240)\n",
      "10. feature 11 : maxpressurei : (0.043753)\n",
      "11. feature 7 : maxwspdi : (0.040069)\n",
      "12. feature 10 : maxhumidity : (0.035390)\n",
      "13. feature 49 : COVERAGE_Evergreen Forest : (0.034618)\n",
      "14. feature 55 : COVERAGE_Shrub : (0.032402)\n",
      "15. feature 46 : COVERAGE_Developed, Low : (0.021988)\n",
      "16. feature 1 : precipi : (0.018138)\n",
      "17. feature 40 : GEO_GENL_U_volcanic rocks : (0.017602)\n",
      "18. feature 32 : GEO_GENL_U_marine sedimentary rocks : (0.013950)\n",
      "19. feature 52 : COVERAGE_Mixed Forest : (0.010286)\n",
      "20. feature 13 : AGE_NAME_Eocene : (0.009508)\n",
      "21. feature 37 : GEO_GENL_U_sediments : (0.008745)\n",
      "22. feature 18 : AGE_NAME_Miocene : (0.008366)\n",
      "23. feature 27 : AGE_NAME_Quaternary : (0.007034)\n",
      "24. feature 41 : GEO_GENL_U_volcaniclastic rocks : (0.006400)\n",
      "25. feature 22 : AGE_NAME_Oligocene/Miocene : (0.006393)\n",
      "26. feature 21 : AGE_NAME_Oligocene : (0.004635)\n",
      "27. feature 50 : COVERAGE_Grassland : (0.004437)\n",
      "28. feature 43 : COVERAGE_Cultivated Crops : (0.004201)\n",
      "29. feature 33 : GEO_GENL_U_marine volcanic rocks : (0.003813)\n",
      "30. feature 15 : AGE_NAME_Eocene/Oligocene : (0.003712)\n",
      "31. feature 30 : GEO_GENL_U_intrusive rocks : (0.003595)\n",
      "32. feature 31 : GEO_GENL_U_invasive extrusive rocks : (0.003026)\n",
      "33. feature 54 : COVERAGE_Pasture/Hay : (0.002892)\n",
      "34. feature 44 : COVERAGE_Deciduous Forest : (0.002774)\n",
      "35. feature 38 : GEO_GENL_U_terrestrial sedimentary rocks : (0.002542)\n",
      "36. feature 17 : AGE_NAME_Jurassic/Cretaceous : (0.002342)\n",
      "37. feature 34 : GEO_GENL_U_melange rocks : (0.002248)\n",
      "38. feature 24 : AGE_NAME_Pleistocene : (0.001845)\n",
      "39. feature 23 : AGE_NAME_Paleocene/Eocene : (0.001804)\n",
      "40. feature 26 : AGE_NAME_Pliocene/Pleistocene : (0.001581)\n",
      "41. feature 47 : COVERAGE_Developed, Medium : (0.001415)\n",
      "42. feature 20 : AGE_NAME_Miocene/Pliocene : (0.001233)\n",
      "43. feature 28 : AGE_NAME_Recent : (0.001152)\n",
      "44. feature 19 : AGE_NAME_Miocene/Pleistocene : (0.000906)\n",
      "45. feature 12 : AGE_NAME_Cretaceous : (0.000715)\n",
      "46. feature 51 : COVERAGE_Herbaceous Wetlands : (0.000673)\n",
      "47. feature 42 : COVERAGE_Barren Land : (0.000662)\n",
      "48. feature 35 : GEO_GENL_U_metamorphic rocks : (0.000633)\n",
      "49. feature 39 : GEO_GENL_U_vent and pyroclastic rocks : (0.000367)\n",
      "50. feature 14 : AGE_NAME_Eocene/Miocene : (0.000290)\n",
      "51. feature 53 : COVERAGE_Open Water : (0.000193)\n",
      "52. feature 36 : GEO_GENL_U_no data : (0.000154)\n",
      "53. feature 16 : AGE_NAME_Jurassic : (0.000142)\n",
      "54. feature 25 : AGE_NAME_Pliocene : (0.000104)\n",
      "55. feature 45 : COVERAGE_Developed, High : (0.000086)\n",
      "56. feature 56 : COVERAGE_Woody Wetlands : (0.000022)\n",
      "57. feature 29 : AGE_NAME_no data : (0.000005)\n"
     ]
    }
   ],
   "source": [
    "print(\"Feature ranking:\")\n",
    "for f in range(X.shape[1]):\n",
    "    print(\"%d. feature %d : %s : (%f)\" % (f + 1, indices[f], features[0][indices[f]], importances[indices[f]]))\n"
   ]
  },
  {
   "cell_type": "code",
   "execution_count": 18,
   "metadata": {
    "collapsed": false
   },
   "outputs": [
    {
     "name": "stderr",
     "output_type": "stream",
     "text": [
      "/Users/rlaverack/anaconda/lib/python2.7/site-packages/matplotlib/collections.py:590: FutureWarning: elementwise comparison failed; returning scalar instead, but in the future will perform elementwise comparison\n",
      "  if self._edgecolors == str('face'):\n"
     ]
    }
   ],
   "source": [
    "plt.figure(figsize=(12,6))\n",
    "plt.title(\"Feature importances\")\n",
    "plt.bar(range(X.shape[1]), importances[indices],\n",
    "       color=\"r\", yerr=std[indices], align=\"center\")\n",
    "plt.xticks(range(X.shape[1]), indices)\n",
    "plt.xlim([-1, X.shape[1]])\n",
    "plt.show()"
   ]
  },
  {
   "cell_type": "markdown",
   "metadata": {
    "collapsed": false
   },
   "source": [
    "Investigate incorrect predictions"
   ]
  },
  {
   "cell_type": "code",
   "execution_count": 19,
   "metadata": {
    "collapsed": false
   },
   "outputs": [],
   "source": [
    "y_df = pd.DataFrame(y_test).reset_index()\n",
    "y_df = y_df.rename(columns={0:'SLIDE'})"
   ]
  },
  {
   "cell_type": "code",
   "execution_count": 20,
   "metadata": {
    "collapsed": false
   },
   "outputs": [],
   "source": [
    "pred_df = pd.DataFrame(pred)"
   ]
  },
  {
   "cell_type": "code",
   "execution_count": 21,
   "metadata": {
    "collapsed": false
   },
   "outputs": [],
   "source": [
    "X_test = X_test.reset_index()"
   ]
  },
  {
   "cell_type": "code",
   "execution_count": 22,
   "metadata": {
    "collapsed": false
   },
   "outputs": [],
   "source": [
    "frames = [X_test,y_df,pred_df]\n",
    "answers = pd.concat(frames,axis=1)"
   ]
  },
  {
   "cell_type": "code",
   "execution_count": 23,
   "metadata": {
    "collapsed": false
   },
   "outputs": [],
   "source": [
    "wrong_answers = answers[answers['SLIDE'] != answers[0]]"
   ]
  },
  {
   "cell_type": "code",
   "execution_count": null,
   "metadata": {
    "collapsed": false
   },
   "outputs": [],
   "source": []
  },
  {
   "cell_type": "code",
   "execution_count": null,
   "metadata": {
    "collapsed": false
   },
   "outputs": [],
   "source": []
  },
  {
   "cell_type": "code",
   "execution_count": null,
   "metadata": {
    "collapsed": false
   },
   "outputs": [],
   "source": []
  },
  {
   "cell_type": "code",
   "execution_count": null,
   "metadata": {
    "collapsed": false
   },
   "outputs": [],
   "source": []
  },
  {
   "cell_type": "code",
   "execution_count": 53,
   "metadata": {
    "collapsed": false
   },
   "outputs": [],
   "source": [
    "pred = clf.predict_proba(X_test)\n",
    "pred_df = pd.DataFrame(pred)"
   ]
  },
  {
   "cell_type": "code",
   "execution_count": 28,
   "metadata": {
    "collapsed": true
   },
   "outputs": [],
   "source": [
    "frames = [X_test,y_df,pred_df]\n",
    "answers = pd.concat(frames,axis=1)"
   ]
  },
  {
   "cell_type": "code",
   "execution_count": 29,
   "metadata": {
    "collapsed": false
   },
   "outputs": [],
   "source": [
    "answers['check'] = np.where(answers[1]>0.3, 1, 0)"
   ]
  },
  {
   "cell_type": "code",
   "execution_count": 30,
   "metadata": {
    "collapsed": false
   },
   "outputs": [],
   "source": [
    "check = answers.pop('check')"
   ]
  },
  {
   "cell_type": "code",
   "execution_count": null,
   "metadata": {
    "collapsed": false
   },
   "outputs": [],
   "source": []
  },
  {
   "cell_type": "code",
   "execution_count": null,
   "metadata": {
    "collapsed": false
   },
   "outputs": [],
   "source": []
  },
  {
   "cell_type": "code",
   "execution_count": null,
   "metadata": {
    "collapsed": false
   },
   "outputs": [],
   "source": []
  },
  {
   "cell_type": "code",
   "execution_count": null,
   "metadata": {
    "collapsed": false
   },
   "outputs": [],
   "source": [
    "wrong_answers = answers[answers['SLIDE'] != answers['check']]"
   ]
  },
  {
   "cell_type": "code",
   "execution_count": null,
   "metadata": {
    "collapsed": false
   },
   "outputs": [],
   "source": [
    "wrong_answers['check'].value_counts()"
   ]
  },
  {
   "cell_type": "code",
   "execution_count": null,
   "metadata": {
    "collapsed": false
   },
   "outputs": [],
   "source": [
    "wrong_answers['check'].describe()"
   ]
  },
  {
   "cell_type": "code",
   "execution_count": 87,
   "metadata": {
    "collapsed": true
   },
   "outputs": [],
   "source": [
    "from sklearn.metrics import roc_curve, auc\n",
    "import matplotlib.pyplot as plt\n",
    "import random\n",
    "%matplotlib inline"
   ]
  },
  {
   "cell_type": "code",
   "execution_count": 55,
   "metadata": {
    "collapsed": false
   },
   "outputs": [],
   "source": [
    "pos_pred = [i[1] for i in pred]"
   ]
  },
  {
   "cell_type": "code",
   "execution_count": 56,
   "metadata": {
    "collapsed": false
   },
   "outputs": [],
   "source": [
    "false_positive_rate, true_positive_rate, thresholds = roc_curve(y_test, pos_pred)\n",
    "roc_auc = auc(false_positive_rate, true_positive_rate)"
   ]
  },
  {
   "cell_type": "code",
   "execution_count": 57,
   "metadata": {
    "collapsed": true
   },
   "outputs": [],
   "source": [
    "plt.title('Receiver Operating Characteristic')\n",
    "plt.plot(false_positive_rate, true_positive_rate, 'b',\n",
    "label='AUC = %0.2f'% roc_auc)\n",
    "plt.legend(loc='lower right')\n",
    "plt.plot([0,1],[0,1],'r--')\n",
    "plt.xlim([-0.1,1.2])\n",
    "plt.ylim([-0.1,1.2])\n",
    "plt.ylabel('True Positive Rate')\n",
    "plt.xlabel('False Positive Rate')\n",
    "plt.show()"
   ]
  },
  {
   "cell_type": "code",
   "execution_count": 58,
   "metadata": {
    "collapsed": false
   },
   "outputs": [],
   "source": [
    "neg_pred = [i[0] for i in pred]"
   ]
  },
  {
   "cell_type": "code",
   "execution_count": 73,
   "metadata": {
    "collapsed": false
   },
   "outputs": [],
   "source": [
    "neg_test = [1 - i for i in y_test]"
   ]
  },
  {
   "cell_type": "code",
   "execution_count": null,
   "metadata": {
    "collapsed": false
   },
   "outputs": [],
   "source": []
  },
  {
   "cell_type": "code",
   "execution_count": 84,
   "metadata": {
    "collapsed": false
   },
   "outputs": [],
   "source": [
    "false_negative_rate, true_negative_rate, thresholds = roc_curve(neg_test, neg_pred)\n",
    "roc_auc = auc(false_negative_rate, true_negative_rate)"
   ]
  },
  {
   "cell_type": "code",
   "execution_count": 85,
   "metadata": {
    "collapsed": true
   },
   "outputs": [],
   "source": [
    "false_negative_rate = false_negative_rate * 100\n",
    "true_negative_rate = true_negative_rate * 100\n",
    "roc_auc = roc_auc *100"
   ]
  },
  {
   "cell_type": "code",
   "execution_count": 95,
   "metadata": {
    "collapsed": false
   },
   "outputs": [
    {
     "data": {
      "text/plain": [
       "<matplotlib.text.Text at 0x1019e0690>"
      ]
     },
     "execution_count": 95,
     "metadata": {},
     "output_type": "execute_result"
    },
    {
     "data": {
      "image/png": "[encoded data removed]",
      "text/plain": [
       "<matplotlib.figure.Figure at 0x10198af10>"
      ]
     },
     "metadata": {},
     "output_type": "display_data"
    }
   ],
   "source": [
    "fig = plt.figure(figsize=(12, 9)) \n",
    "ax = plt.subplot(111)\n",
    "plt.title('Receiver Operating Characteristic',fontsize=16)\n",
    "ax.plot(false_negative_rate, true_negative_rate, 'b',\n",
    "label='AUC = %0.2f'% roc_auc)\n",
    "plt.legend(loc='lower right')\n",
    "plt.plot([0,100],[0,100],'r--')\n",
    "plt.xlim([-0.0,100])\n",
    "plt.ylim([-0.0,100])\n",
    "plt.ylabel('True Negative Rate',fontsize=14)\n",
    "plt.xlabel('False Negative Rate',fontsize=14)"
   ]
  },
  {
   "cell_type": "code",
   "execution_count": 83,
   "metadata": {
    "collapsed": false
   },
   "outputs": [
    {
     "data": {
      "text/plain": [
       "array([    28.8184438 ,     57.63688761,     86.45533141,    115.27377522,\n",
       "          172.91066282,    230.54755043,    259.36599424,    288.18443804,\n",
       "          317.00288184,    345.82132565,    374.63976945,    403.45821326,\n",
       "          432.27665706,    461.09510086,    461.09510086,    489.91354467,\n",
       "          518.73198847,    547.55043228,    576.36887608,    605.18731988,\n",
       "          634.00576369,    662.82420749,    691.6426513 ,    720.4610951 ,\n",
       "          749.2795389 ,    778.09798271,    806.91642651,    835.73487032,\n",
       "          864.55331412,    893.37175793,    922.19020173,    951.00864553,\n",
       "          979.82708934,   1008.64553314,   1037.46397695,   1066.28242075,\n",
       "         1095.10086455,   1095.10086455,   1123.91930836,   1152.73775216,\n",
       "         1181.55619597,   1210.37463977,   1210.37463977,   1239.19308357,\n",
       "         1268.01152738,   1296.82997118,   1325.64841499,   1354.46685879,\n",
       "         1383.28530259,   1412.1037464 ,   1412.1037464 ,   1440.9221902 ,\n",
       "         1498.55907781,   1527.37752161,   1556.19596542,   1585.01440922,\n",
       "         1613.83285303,   1642.65129683,   1671.46974063,   1700.28818444,\n",
       "         1729.10662824,   1757.92507205,   1786.74351585,   1815.56195965,\n",
       "         1844.38040346,   1873.19884726,   1902.01729107,   1930.83573487,\n",
       "         1959.65417867,   1988.47262248,   2017.29106628,   2046.10951009,\n",
       "         2074.92795389,   2103.74639769,   2132.5648415 ,   2161.3832853 ,\n",
       "         2190.20172911,   2219.02017291,   2247.83861671,   2276.65706052,\n",
       "         2305.47550432,   2334.29394813,   2363.11239193,   2391.93083573,\n",
       "         2391.93083573,   2420.74927954,   2449.56772334,   2478.38616715,\n",
       "         2507.20461095,   2536.02305476,   2564.84149856,   2593.65994236,\n",
       "         2622.47838617,   2651.29682997,   2680.11527378,   2708.93371758,\n",
       "         2737.75216138,   2766.57060519,   2795.38904899,   2824.2074928 ,\n",
       "         2853.0259366 ,   2881.8443804 ,   2910.66282421,   2939.48126801,\n",
       "         2968.29971182,   2997.11815562,   3025.93659942,   3054.75504323,\n",
       "         3083.57348703,   3083.57348703,   3112.39193084,   3141.21037464,\n",
       "         3170.02881844,   3198.84726225,   3227.66570605,   3256.48414986,\n",
       "         3285.30259366,   3314.12103746,   3342.93948127,   3371.75792507,\n",
       "         3400.57636888,   3429.39481268,   3429.39481268,   3429.39481268,\n",
       "         3458.21325648,   3487.03170029,   3515.85014409,   3544.6685879 ,\n",
       "         3573.4870317 ,   3602.3054755 ,   3631.12391931,   3631.12391931,\n",
       "         3659.94236311,   3659.94236311,   3659.94236311,   3688.76080692,\n",
       "         3688.76080692,   3688.76080692,   3717.57925072,   3746.39769452,\n",
       "         3746.39769452,   3775.21613833,   3804.03458213,   3832.85302594,\n",
       "         3861.67146974,   3890.48991354,   3919.30835735,   3948.12680115,\n",
       "         3976.94524496,   4005.76368876,   4034.58213256,   4063.40057637,\n",
       "         4063.40057637,   4092.21902017,   4121.03746398,   4149.85590778,\n",
       "         4178.67435159,   4178.67435159,   4207.49279539,   4236.31123919,\n",
       "         4265.129683  ,   4293.9481268 ,   4322.76657061,   4351.58501441,\n",
       "         4351.58501441,   4380.40345821,   4409.22190202,   4438.04034582,\n",
       "         4466.85878963,   4495.67723343,   4524.49567723,   4553.31412104,\n",
       "         4553.31412104,   4582.13256484,   4610.95100865,   4610.95100865,\n",
       "         4639.76945245,   4668.58789625,   4697.40634006,   4726.22478386,\n",
       "         4755.04322767,   4783.86167147,   4812.68011527,   4841.49855908,\n",
       "         4870.31700288,   4870.31700288,   4899.13544669,   4927.95389049,\n",
       "         4956.77233429,   4985.5907781 ,   5014.4092219 ,   5043.22766571,\n",
       "         5072.04610951,   5072.04610951,   5100.86455331,   5129.68299712,\n",
       "         5129.68299712,   5158.50144092,   5187.31988473,   5216.13832853,\n",
       "         5244.95677233,   5273.77521614,   5302.59365994,   5331.41210375,\n",
       "         5360.23054755,   5360.23054755,   5360.23054755,   5389.04899135,\n",
       "         5389.04899135,   5389.04899135,   5389.04899135,   5417.86743516,\n",
       "         5446.68587896,   5475.50432277,   5504.32276657,   5504.32276657,\n",
       "         5533.14121037,   5561.95965418,   5590.77809798,   5590.77809798,\n",
       "         5619.59654179,   5648.41498559,   5677.23342939,   5706.0518732 ,\n",
       "         5734.870317  ,   5734.870317  ,   5763.68876081,   5763.68876081,\n",
       "         5792.50720461,   5792.50720461,   5821.32564841,   5850.14409222,\n",
       "         5878.96253602,   5907.78097983,   5936.59942363,   5965.41786744,\n",
       "         5994.23631124,   5994.23631124,   5994.23631124,   6023.05475504,\n",
       "         6051.87319885,   6080.69164265,   6109.51008646,   6109.51008646,\n",
       "         6138.32853026,   6167.14697406,   6195.96541787,   6224.78386167,\n",
       "         6253.60230548,   6282.42074928,   6311.23919308,   6340.05763689,\n",
       "         6368.87608069,   6397.6945245 ,   6426.5129683 ,   6426.5129683 ,\n",
       "         6455.3314121 ,   6455.3314121 ,   6484.14985591,   6512.96829971,\n",
       "         6541.78674352,   6570.60518732,   6570.60518732,   6599.42363112,\n",
       "         6599.42363112,   6628.24207493,   6657.06051873,   6685.87896254,\n",
       "         6714.69740634,   6714.69740634,   6743.51585014,   6772.33429395,\n",
       "         6772.33429395,   6801.15273775,   6829.97118156,   6829.97118156,\n",
       "         6858.78962536,   6858.78962536,   6887.60806916,   6916.42651297,\n",
       "         6945.24495677,   6974.06340058,   6974.06340058,   6974.06340058,\n",
       "         7002.88184438,   7031.70028818,   7060.51873199,   7060.51873199,\n",
       "         7089.33717579,   7118.1556196 ,   7146.9740634 ,   7175.7925072 ,\n",
       "         7175.7925072 ,   7175.7925072 ,   7204.61095101,   7233.42939481,\n",
       "         7262.24783862,   7291.06628242,   7319.88472622,   7348.70317003,\n",
       "         7377.52161383,   7406.34005764,   7435.15850144,   7463.97694524,\n",
       "         7492.79538905,   7521.61383285,   7550.43227666,   7579.25072046,\n",
       "         7608.06916427,   7636.88760807,   7636.88760807,   7665.70605187,\n",
       "         7694.52449568,   7723.34293948,   7752.16138329,   7780.97982709,\n",
       "         7809.79827089,   7838.6167147 ,   7867.4351585 ,   7896.25360231,\n",
       "         7925.07204611,   7925.07204611,   7953.89048991,   7953.89048991,\n",
       "         7953.89048991,   7953.89048991,   7982.70893372,   8011.52737752,\n",
       "         8040.34582133,   8069.16426513,   8097.98270893,   8126.80115274,\n",
       "         8126.80115274,   8155.61959654,   8155.61959654,   8155.61959654,\n",
       "         8184.43804035,   8213.25648415,   8213.25648415,   8213.25648415,\n",
       "         8242.07492795,   8242.07492795,   8242.07492795,   8242.07492795,\n",
       "         8242.07492795,   8270.89337176,   8270.89337176,   8299.71181556,\n",
       "         8328.53025937,   8357.34870317,   8386.16714697,   8443.80403458,\n",
       "         8472.62247839,   8501.44092219,   8530.25936599,   8530.25936599,\n",
       "         8530.25936599,   8559.0778098 ,   8587.8962536 ,   8616.71469741,\n",
       "         8616.71469741,   8645.53314121,   8645.53314121,   8645.53314121,\n",
       "         8645.53314121,   8645.53314121,   8645.53314121,   8645.53314121,\n",
       "         8645.53314121,   8645.53314121,   8645.53314121,   8645.53314121,\n",
       "         8645.53314121,   8645.53314121,   8674.35158501,   8674.35158501,\n",
       "         8674.35158501,   8674.35158501,   8674.35158501,   8674.35158501,\n",
       "         8674.35158501,   8703.17002882,   8703.17002882,   8703.17002882,\n",
       "         8731.98847262,   8760.80691643,   8760.80691643,   8789.62536023,\n",
       "         8818.44380403,   8847.26224784,   8847.26224784,   8876.08069164,\n",
       "         8876.08069164,   8904.89913545,   8904.89913545,   8904.89913545,\n",
       "         8933.71757925,   8933.71757925,   8933.71757925,   8962.53602305,\n",
       "         8962.53602305,   8991.35446686,   9020.17291066,   9020.17291066,\n",
       "         9020.17291066,   9048.99135447,   9077.80979827,   9077.80979827,\n",
       "         9106.62824207,   9106.62824207,   9106.62824207,   9106.62824207,\n",
       "         9106.62824207,   9106.62824207,   9135.44668588,   9164.26512968,\n",
       "         9164.26512968,   9164.26512968,   9164.26512968,   9164.26512968,\n",
       "         9193.08357349,   9193.08357349,   9193.08357349,   9221.90201729,\n",
       "         9221.90201729,   9250.7204611 ,   9250.7204611 ,   9250.7204611 ,\n",
       "         9250.7204611 ,   9250.7204611 ,   9279.5389049 ,   9308.3573487 ,\n",
       "         9308.3573487 ,   9308.3573487 ,   9308.3573487 ,   9337.17579251,\n",
       "         9337.17579251,   9337.17579251,   9337.17579251,   9337.17579251,\n",
       "         9337.17579251,   9365.99423631,   9365.99423631,   9365.99423631,\n",
       "         9394.81268012,   9394.81268012,   9394.81268012,   9423.63112392,\n",
       "         9423.63112392,   9423.63112392,   9423.63112392,   9423.63112392,\n",
       "         9423.63112392,   9423.63112392,   9423.63112392,   9423.63112392,\n",
       "         9423.63112392,   9423.63112392,   9452.44956772,   9452.44956772,\n",
       "         9452.44956772,   9452.44956772,   9452.44956772,   9452.44956772,\n",
       "         9452.44956772,   9452.44956772,   9481.26801153,   9481.26801153,\n",
       "         9481.26801153,   9510.08645533,   9538.90489914,   9538.90489914,\n",
       "         9538.90489914,   9538.90489914,   9567.72334294,   9567.72334294,\n",
       "         9567.72334294,   9567.72334294,   9567.72334294,   9596.54178674,\n",
       "         9625.36023055,   9625.36023055,   9625.36023055,   9625.36023055,\n",
       "         9654.17867435,   9654.17867435,   9654.17867435,   9682.99711816,\n",
       "         9711.81556196,   9711.81556196,   9711.81556196,   9711.81556196,\n",
       "         9711.81556196,   9711.81556196,   9711.81556196,   9711.81556196,\n",
       "         9711.81556196,   9711.81556196,   9711.81556196,   9711.81556196,\n",
       "         9711.81556196,   9711.81556196,   9711.81556196,   9711.81556196,\n",
       "         9711.81556196,   9711.81556196,   9711.81556196,   9711.81556196,\n",
       "         9711.81556196,   9711.81556196,   9711.81556196,   9711.81556196,\n",
       "         9711.81556196,   9711.81556196,   9711.81556196,   9740.63400576,\n",
       "         9740.63400576,   9769.45244957,   9769.45244957,   9769.45244957,\n",
       "         9769.45244957,   9769.45244957,   9769.45244957,   9769.45244957,\n",
       "         9769.45244957,   9798.27089337,   9798.27089337,   9798.27089337,\n",
       "         9798.27089337,   9798.27089337,   9798.27089337,   9798.27089337,\n",
       "         9798.27089337,   9827.08933718,   9827.08933718,   9827.08933718,\n",
       "         9827.08933718,   9827.08933718,   9827.08933718,   9827.08933718,\n",
       "         9827.08933718,   9827.08933718,   9855.90778098,   9855.90778098,\n",
       "         9855.90778098,   9855.90778098,   9855.90778098,   9855.90778098,\n",
       "         9855.90778098,   9855.90778098,   9855.90778098,   9855.90778098,\n",
       "         9855.90778098,   9855.90778098,   9855.90778098,   9884.72622478,\n",
       "         9884.72622478,   9884.72622478,   9913.54466859,   9913.54466859,\n",
       "         9913.54466859,   9913.54466859,   9913.54466859,   9913.54466859,\n",
       "         9913.54466859,   9913.54466859,   9913.54466859,   9913.54466859,\n",
       "         9913.54466859,   9913.54466859,   9913.54466859,   9913.54466859,\n",
       "         9913.54466859,   9913.54466859,   9913.54466859,   9913.54466859,\n",
       "         9913.54466859,   9913.54466859,   9913.54466859,   9913.54466859,\n",
       "         9913.54466859,   9913.54466859,   9913.54466859,   9913.54466859,\n",
       "         9913.54466859,   9942.36311239,   9942.36311239,   9942.36311239,\n",
       "         9942.36311239,   9942.36311239,   9942.36311239,   9942.36311239,\n",
       "         9942.36311239,   9942.36311239,   9942.36311239,   9942.36311239,\n",
       "         9942.36311239,   9942.36311239,   9942.36311239,   9942.36311239,\n",
       "         9942.36311239,   9942.36311239,   9942.36311239,   9942.36311239,\n",
       "         9942.36311239,   9942.36311239,   9942.36311239,   9942.36311239,\n",
       "         9942.36311239,   9942.36311239,   9942.36311239,   9942.36311239,\n",
       "         9942.36311239,   9942.36311239,   9942.36311239,   9942.36311239,\n",
       "         9942.36311239,   9942.36311239,   9942.36311239,   9942.36311239,\n",
       "         9942.36311239,   9942.36311239,   9942.36311239,   9942.36311239,\n",
       "         9942.36311239,   9942.36311239,   9942.36311239,   9942.36311239,\n",
       "         9942.36311239,   9942.36311239,   9942.36311239,   9942.36311239,\n",
       "         9942.36311239,   9942.36311239,   9942.36311239,   9942.36311239,\n",
       "         9942.36311239,   9942.36311239,   9942.36311239,   9942.36311239,\n",
       "         9942.36311239,   9942.36311239,   9942.36311239,   9942.36311239,\n",
       "         9942.36311239,   9942.36311239,   9942.36311239,   9942.36311239,\n",
       "         9942.36311239,   9942.36311239,   9942.36311239,   9942.36311239,\n",
       "         9942.36311239,   9942.36311239,   9942.36311239,   9942.36311239,\n",
       "         9942.36311239,   9942.36311239,   9942.36311239,   9942.36311239,\n",
       "         9942.36311239,   9942.36311239,   9942.36311239,   9942.36311239,\n",
       "         9942.36311239,   9942.36311239,   9942.36311239,   9942.36311239,\n",
       "         9942.36311239,   9942.36311239,   9942.36311239,   9942.36311239,\n",
       "         9942.36311239,   9942.36311239,   9942.36311239,   9942.36311239,\n",
       "         9942.36311239,   9942.36311239,   9942.36311239,   9942.36311239,\n",
       "         9942.36311239,   9942.36311239,   9942.36311239,   9942.36311239,\n",
       "         9942.36311239,   9942.36311239,   9942.36311239,   9942.36311239,\n",
       "         9971.1815562 ,   9971.1815562 ,   9971.1815562 ,   9971.1815562 ,\n",
       "         9971.1815562 ,   9971.1815562 ,   9971.1815562 ,   9971.1815562 ,\n",
       "        10000.        ,  10000.        ,  10000.        ,  10000.        ,\n",
       "        10000.        ,  10000.        ,  10000.        ,  10000.        ,\n",
       "        10000.        ,  10000.        ,  10000.        ,  10000.        ,\n",
       "        10000.        ,  10000.        ,  10000.        ,  10000.        ,\n",
       "        10000.        ,  10000.        ,  10000.        ,  10000.        ,\n",
       "        10000.        ,  10000.        ,  10000.        ,  10000.        ])"
      ]
     },
     "execution_count": 83,
     "metadata": {},
     "output_type": "execute_result"
    }
   ],
   "source": [
    "true_negative_rate"
   ]
  },
  {
   "cell_type": "code",
   "execution_count": null,
   "metadata": {
    "collapsed": true
   },
   "outputs": [],
   "source": []
  }
 ],
 "metadata": {
  "kernelspec": {
   "display_name": "Python 2",
   "language": "python",
   "name": "python2"
  },
  "language_info": {
   "codemirror_mode": {
    "name": "ipython",
    "version": 2
   },
   "file_extension": ".py",
   "mimetype": "text/x-python",
   "name": "python",
   "nbconvert_exporter": "python",
   "pygments_lexer": "ipython2",
   "version": "2.7.10"
  }
 },
 "nbformat": 4,
 "nbformat_minor": 0
}

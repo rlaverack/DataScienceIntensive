{
 "cells": [
  {
   "cell_type": "code",
   "execution_count": 3,
   "metadata": {
    "collapsed": false
   },
   "outputs": [
    {
     "data": {
      "text/plain": [
       "['',\n",
       " '/Users/rlaverack/ipykernel',\n",
       " '/Users/rlaverack/anaconda/lib/python27.zip',\n",
       " '/Users/rlaverack/anaconda/lib/python2.7',\n",
       " '/Users/rlaverack/anaconda/lib/python2.7/plat-darwin',\n",
       " '/Users/rlaverack/anaconda/lib/python2.7/plat-mac',\n",
       " '/Users/rlaverack/anaconda/lib/python2.7/plat-mac/lib-scriptpackages',\n",
       " '/Users/rlaverack/anaconda/lib/python2.7/lib-tk',\n",
       " '/Users/rlaverack/anaconda/lib/python2.7/lib-old',\n",
       " '/Users/rlaverack/anaconda/lib/python2.7/lib-dynload',\n",
       " '/Users/rlaverack/anaconda/lib/python2.7/site-packages/Sphinx-1.3.1-py2.7.egg',\n",
       " '/Users/rlaverack/anaconda/lib/python2.7/site-packages/setuptools-18.5-py2.7.egg',\n",
       " '/Users/rlaverack/anaconda/lib/python2.7/site-packages',\n",
       " '/Users/rlaverack/anaconda/lib/python2.7/site-packages/aeosa',\n",
       " '/Users/rlaverack/anaconda/lib/python2.7/site-packages/IPython/extensions',\n",
       " '/Users/rlaverack/.ipython']"
      ]
     },
     "execution_count": 3,
     "metadata": {},
     "output_type": "execute_result"
    }
   ],
   "source": [
    "import sys\n",
    "sys.path"
   ]
  },
  {
   "cell_type": "code",
   "execution_count": null,
   "metadata": {
    "collapsed": true
   },
   "outputs": [],
   "source": []
  }
 ],
 "metadata": {
  "kernelspec": {
   "display_name": "Python 2",
   "language": "python",
   "name": "python2"
  },
  "language_info": {
   "codemirror_mode": {
    "name": "ipython",
    "version": 2
   },
   "file_extension": ".py",
   "mimetype": "text/x-python",
   "name": "python",
   "nbconvert_exporter": "python",
   "pygments_lexer": "ipython2",
   "version": "2.7.10"
  }
 },
 "nbformat": 4,
 "nbformat_minor": 0
}

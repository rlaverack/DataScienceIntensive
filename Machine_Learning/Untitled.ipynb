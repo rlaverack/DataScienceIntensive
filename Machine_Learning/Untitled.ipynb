{
 "cells": [
  {
   "cell_type": "code",
   "execution_count": 1,
   "metadata": {
    "collapsed": true
   },
   "outputs": [],
   "source": [
    "import numpy as np\n",
    "import matplotlib.pyplot as plt\n",
    "from sklearn import svm, datasets\n",
    "from sklearn.metrics import roc_curve, auc\n",
    "from sklearn.cross_validation import train_test_split\n",
    "from sklearn.preprocessing import label_binarize\n",
    "from sklearn.multiclass import OneVsRestClassifier\n",
    "from scipy import interp"
   ]
  },
  {
   "cell_type": "code",
   "execution_count": 2,
   "metadata": {
    "collapsed": true
   },
   "outputs": [],
   "source": [
    "# Import some data to play with\n",
    "iris = datasets.load_iris()\n",
    "X = iris.data\n",
    "y = iris.target"
   ]
  },
  {
   "cell_type": "code",
   "execution_count": 3,
   "metadata": {
    "collapsed": true
   },
   "outputs": [],
   "source": [
    "# Binarize the output\n",
    "y = label_binarize(y, classes=[0, 1, 2])\n",
    "n_classes = y.shape[1]"
   ]
  },
  {
   "cell_type": "code",
   "execution_count": 4,
   "metadata": {
    "collapsed": true
   },
   "outputs": [],
   "source": [
    "# Add noisy features to make the problem harder\n",
    "random_state = np.random.RandomState(0)\n",
    "n_samples, n_features = X.shape\n",
    "X = np.c_[X, random_state.randn(n_samples, 200 * n_features)]"
   ]
  },
  {
   "cell_type": "code",
   "execution_count": 5,
   "metadata": {
    "collapsed": true
   },
   "outputs": [],
   "source": [
    "# shuffle and split training and test sets\n",
    "X_train, X_test, y_train, y_test = train_test_split(X, y, test_size=.5,\n",
    "                                                    random_state=0)"
   ]
  },
  {
   "cell_type": "code",
   "execution_count": 6,
   "metadata": {
    "collapsed": true
   },
   "outputs": [],
   "source": [
    "# Learn to predict each class against the other\n",
    "classifier = OneVsRestClassifier(svm.SVC(kernel='linear', probability=True,\n",
    "                                 random_state=random_state))\n",
    "y_score = classifier.fit(X_train, y_train).decision_function(X_test)"
   ]
  },
  {
   "cell_type": "code",
   "execution_count": 7,
   "metadata": {
    "collapsed": true
   },
   "outputs": [],
   "source": [
    "# Compute ROC curve and ROC area for each class\n",
    "fpr = dict()\n",
    "tpr = dict()\n",
    "roc_auc = dict()\n",
    "for i in range(n_classes):\n",
    "    fpr[i], tpr[i], _ = roc_curve(y_test[:, i], y_score[:, i])\n",
    "    roc_auc[i] = auc(fpr[i], tpr[i])"
   ]
  },
  {
   "cell_type": "code",
   "execution_count": 8,
   "metadata": {
    "collapsed": true
   },
   "outputs": [],
   "source": [
    "# Compute micro-average ROC curve and ROC area\n",
    "fpr[\"micro\"], tpr[\"micro\"], _ = roc_curve(y_test.ravel(), y_score.ravel())\n",
    "roc_auc[\"micro\"] = auc(fpr[\"micro\"], tpr[\"micro\"])"
   ]
  },
  {
   "cell_type": "code",
   "execution_count": 10,
   "metadata": {
    "collapsed": false
   },
   "outputs": [
    {
     "data": {
      "text/plain": [
       "array([[-0.76305896, -0.36472635,  0.1239796 ],\n",
       "       [-0.20238399, -0.63148982, -0.16616656],\n",
       "       [ 0.11808492, -0.80262259, -0.32062486],\n",
       "       [-0.90750303, -0.1239792 ,  0.02184016],\n",
       "       [-0.01108555, -0.27918155, -0.71882525],\n",
       "       [-0.60521037, -0.34728075, -0.05851787],\n",
       "       [ 0.02264569, -0.24507866, -0.79094201],\n",
       "       [-0.61115098,  0.1827259 , -0.57154703],\n",
       "       [-0.37590649, -0.24062697, -0.38892819],\n",
       "       [-0.47019698, -0.25733679, -0.27501927],\n",
       "       [-0.42194767, -0.30275351, -0.28027547],\n",
       "       [-0.33545871, -0.70306393,  0.02538619],\n",
       "       [-0.22711497, -0.64064389, -0.13452752],\n",
       "       [-0.07836815, -0.46342889, -0.45930643],\n",
       "       [-0.533757  , -0.26521263, -0.20026826],\n",
       "       [ 0.09973063, -0.55326984, -0.56156984],\n",
       "       [-0.71354879, -0.04231832, -0.24317009],\n",
       "       [-0.55067912, -0.13785396, -0.31413579],\n",
       "       [ 0.37989555, -0.99673681, -0.3909524 ],\n",
       "       [-0.11088917, -0.91357544,  0.03129667],\n",
       "       [-0.70721114, -0.06430956, -0.21412904],\n",
       "       [-0.02407429, -0.45895598, -0.51928682],\n",
       "       [-0.25004251, -0.80100991,  0.04076059],\n",
       "       [ 0.12688003, -0.70987418, -0.41083444],\n",
       "       [-0.68224184, -0.20724969, -0.1202643 ],\n",
       "       [-0.0800568 , -0.36695547, -0.57664396],\n",
       "       [-0.03254409, -0.11603038, -0.8648849 ],\n",
       "       [-0.04974597, -0.73610513, -0.21652326],\n",
       "       [-0.13003384, -0.37669991, -0.49962148],\n",
       "       [-0.19289268, -0.71079054, -0.11051706],\n",
       "       [-0.36221002, -0.41410723, -0.2273942 ],\n",
       "       [-0.2284516 , -0.78973024,  0.02074984],\n",
       "       [-0.06178684, -0.47628223, -0.45378569],\n",
       "       [-0.52446923, -0.46496654, -0.00359355],\n",
       "       [-0.40029714, -0.71472476,  0.10099661],\n",
       "       [-0.3511887 , -0.31112596, -0.33970555],\n",
       "       [-0.05774206, -0.51400526, -0.41773929],\n",
       "       [-1.11908314, -0.00736339,  0.12950484],\n",
       "       [ 0.19597017, -0.65775051, -0.54614202],\n",
       "       [-0.04342577, -0.60042226, -0.35868612],\n",
       "       [-0.4812135 , -0.21920638, -0.30068446],\n",
       "       [ 0.17431275, -1.0108599 , -0.18121717],\n",
       "       [-0.41431727, -0.60032358,  0.00863558],\n",
       "       [-0.01086869, -0.75802709, -0.22892428],\n",
       "       [ 0.01626312, -0.8156017 , -0.20376516],\n",
       "       [-0.11923774, -0.84788528, -0.05836804],\n",
       "       [-0.70843733, -0.286195  , -0.01169663],\n",
       "       [-0.77322168, -0.43208966,  0.21330137],\n",
       "       [-0.61461496, -0.15074926, -0.23335428],\n",
       "       [-0.96335686, -0.62814722,  0.58431039],\n",
       "       [-0.31000437, -0.29574607, -0.3941874 ],\n",
       "       [-0.31988026, -0.34629128, -0.32066024],\n",
       "       [-0.35307167, -0.66921938,  0.00761443],\n",
       "       [ 0.12141618, -0.62483742, -0.50579325],\n",
       "       [-0.66412149, -0.11447286, -0.21316263],\n",
       "       [-0.55119677, -0.34855218, -0.10579228],\n",
       "       [-0.55717268, -0.13386492, -0.30604104],\n",
       "       [-0.41121128, -0.52473406, -0.07437911],\n",
       "       [-0.49442008, -0.2332585 , -0.27820574],\n",
       "       [ 0.06881717, -0.85437126, -0.21661728],\n",
       "       [-0.23058968, -0.48751709, -0.28302624],\n",
       "       [ 0.30309598, -0.83392326, -0.47723277],\n",
       "       [ 0.17584119, -0.81582683, -0.37510759],\n",
       "       [-0.19111926, -0.70824907, -0.10203375],\n",
       "       [-0.42896846, -0.3990632 , -0.16931316],\n",
       "       [-0.67758109,  0.09202727, -0.39954675],\n",
       "       [-0.32984013, -0.56568558, -0.1204075 ],\n",
       "       [-0.97144386, -0.46477124,  0.41494993],\n",
       "       [ 0.02097654, -0.56915133, -0.44612973],\n",
       "       [-0.08193282, -0.56128644, -0.35207865],\n",
       "       [-0.41489593, -0.63695943,  0.04859412],\n",
       "       [-0.30434286, -0.08424982, -0.61862499],\n",
       "       [ 0.18874747, -0.88796087, -0.29723377],\n",
       "       [ 0.24975994, -0.80511827, -0.44319443],\n",
       "       [-0.39991848, -0.29010996, -0.30381285]])"
      ]
     },
     "execution_count": 10,
     "metadata": {},
     "output_type": "execute_result"
    }
   ],
   "source": [
    "y_score"
   ]
  },
  {
   "cell_type": "code",
   "execution_count": null,
   "metadata": {
    "collapsed": true
   },
   "outputs": [],
   "source": []
  }
 ],
 "metadata": {
  "kernelspec": {
   "display_name": "Python 2",
   "language": "python",
   "name": "python2"
  },
  "language_info": {
   "codemirror_mode": {
    "name": "ipython",
    "version": 2
   },
   "file_extension": ".py",
   "mimetype": "text/x-python",
   "name": "python",
   "nbconvert_exporter": "python",
   "pygments_lexer": "ipython2",
   "version": "2.7.10"
  }
 },
 "nbformat": 4,
 "nbformat_minor": 0
}
